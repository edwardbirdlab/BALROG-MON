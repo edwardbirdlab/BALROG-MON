{
 "cells": [
  {
   "cell_type": "code",
   "execution_count": 37,
   "id": "9ce18f10-c2cb-4459-95be-126978b228a0",
   "metadata": {},
   "outputs": [],
   "source": [
    "import pandas as pd\n",
    "\n",
    "import os\n",
    "from Bio import SeqIO"
   ]
  },
  {
   "cell_type": "code",
   "execution_count": 42,
   "id": "e8f304a6-cf3e-4bae-a877-6013bf963e13",
   "metadata": {},
   "outputs": [],
   "source": [
    "def files_without_extension(directory):\n",
    "    files_without_ext = []\n",
    "\n",
    "    # Iterate over all files in the directory\n",
    "    for filename in os.listdir(directory):\n",
    "        if filename == \"AMRProt\":\n",
    "            continue  # Skip the file with the name \"AMRProt\"\n",
    "        filepath = os.path.join(directory, filename)\n",
    "        if os.path.isfile(filepath) and '.' not in filename:\n",
    "            files_without_ext.append(filename)\n",
    "\n",
    "    return files_without_ext"
   ]
  },
  {
   "cell_type": "code",
   "execution_count": 43,
   "id": "5b471f22-00cd-41a1-97e0-904f93508556",
   "metadata": {},
   "outputs": [],
   "source": [
    "def import_fasta_file(file_path):\n",
    "    fasta_dict = {}\n",
    "    try:\n",
    "        # Parse the FASTA file and add sequences to the dictionary\n",
    "        with open(file_path) as file:\n",
    "            records = SeqIO.parse(file, 'fasta')\n",
    "            for record in records:\n",
    "                fasta_dict[record.id] = str(record.seq)\n",
    "    except Exception as e:\n",
    "        print(\"Error importing file {}: {}\".format(file_path, e))\n",
    "\n",
    "    return fasta_dict"
   ]
  },
  {
   "cell_type": "code",
   "execution_count": 55,
   "id": "4f85c1b7-33d4-44a4-9dcf-7539a445117e",
   "metadata": {},
   "outputs": [],
   "source": [
    "def join_dicts(list_of_dicts):\n",
    "    result_dict = {}\n",
    "    for dictionary in list_of_dicts:\n",
    "        result_dict.update(dictionary)\n",
    "    return result_dict"
   ]
  },
  {
   "cell_type": "code",
   "execution_count": 56,
   "id": "c54a4722-39c5-4034-aa7c-34c56a32057e",
   "metadata": {},
   "outputs": [],
   "source": [
    "def import_all_nuclotide(directory_path):\n",
    "    NE_files = files_without_extension(directory_path)\n",
    "\n",
    "    fasta_file_dicts = []\n",
    "    for file in NE_files:\n",
    "        path = os.path.join(directory_path,file)\n",
    "        temp = import_fasta_file(path)\n",
    "        fasta_file_dicts.append(temp)\n",
    "\n",
    "    concat_dicts = join_dicts(fasta_file_dicts)\n",
    "\n",
    "    return concat_dicts"
   ]
  },
  {
   "cell_type": "code",
   "execution_count": 70,
   "id": "a498ab52-900b-4f72-b485-43be9dc69790",
   "metadata": {},
   "outputs": [],
   "source": [
    "def search_dict_by_key_containing_string(dictionary, search_string):\n",
    "    result = {}\n",
    "    for key in dictionary.keys():\n",
    "        if search_string in key:\n",
    "            result[search_string] = dictionary[key]\n",
    "    return result"
   ]
  },
  {
   "cell_type": "code",
   "execution_count": 86,
   "id": "deb648c5-573d-44a6-a43e-8a484a9b9ac2",
   "metadata": {},
   "outputs": [],
   "source": [
    "def write_fasta_dict_to_file(fasta_dict, output_file):\n",
    "    with open(output_file, \"w\") as output_handle:\n",
    "        for seq_id, seq in fasta_dict.items():\n",
    "            output_handle.write(f\">{seq_id}\\n\")\n",
    "            output_handle.write(f\"{seq}\\n\")"
   ]
  },
  {
   "cell_type": "code",
   "execution_count": 89,
   "id": "2589bafb-09f7-4458-8882-9d753e174eab",
   "metadata": {},
   "outputs": [],
   "source": [
    "def get_acc_bulk(directory):\n",
    "    # Loop through files in the directory\n",
    "    acc_list = []\n",
    "    for filename in os.listdir(directory):\n",
    "        # Check if the entry is a file\n",
    "        filepath = os.path.join(directory, filename)\n",
    "        if os.path.isfile(filepath):\n",
    "            # Process the file\n",
    "            print(\"Processing file:\", filename)\n",
    "            amrf_out = pd.read_csv(filepath, sep='\\t')\n",
    "            accession_list = list(amrf_out['Accession of closest sequence'])\n",
    "            for acc in accession_list:\n",
    "                acc_list.append(acc)\n",
    "    unique_acc = list(set(acc_list))\n",
    "    return unique_acc"
   ]
  },
  {
   "cell_type": "code",
   "execution_count": 99,
   "id": "779c7c1c-e7ca-4b9a-ba93-4a09638b691d",
   "metadata": {},
   "outputs": [],
   "source": [
    "def get_nuc_seqs_amrfinder(DB_Path, AMRF_OUT_DIR, Output_Fasta_filename):\n",
    "    fnai_dict = import_all_nuclotide(DB_Path)\n",
    "\n",
    "    acc_list = get_acc_bulk(AMRF_OUT_DIR)\n",
    "    result_ls = []\n",
    "    for acc in acc_list:\n",
    "        result = search_dict_by_key_containing_string(concat_dicts, acc)\n",
    "        result_ls.append(result)\n",
    "        if len(result) == 0:\n",
    "            print('No result found')\n",
    "        elif len(result) > 1:\n",
    "            print('more than one result found')\n",
    "    result_df = join_dicts(result_ls)\n",
    "\n",
    "    if len(acc_list) == len(result_df):\n",
    "        print('Finished Correctly, all sequences found')\n",
    "    elif len(acc_list) < len(result_df):\n",
    "        print('Somthing went wrong, some sequences were duplicated')\n",
    "    else:\n",
    "        print('Somthing went wrong, some sequences not found')\n",
    "\n",
    "    write_fasta_dict_to_file(result_df, Output_Fasta_filename)"
   ]
  },
  {
   "cell_type": "code",
   "execution_count": 100,
   "id": "8bf2a2a9-7840-4583-8e3e-100f296f922d",
   "metadata": {},
   "outputs": [
    {
     "name": "stdout",
     "output_type": "stream",
     "text": [
      "Processing file: barcode01_AMRFinder.tsv\n",
      "Processing file: barcode02_AMRFinder.tsv\n",
      "Processing file: barcode03_AMRFinder.tsv\n",
      "Processing file: barcode04_AMRFinder.tsv\n",
      "Processing file: barcode05_AMRFinder.tsv\n",
      "Processing file: barcode06_AMRFinder.tsv\n",
      "Processing file: barcode07_AMRFinder.tsv\n",
      "Processing file: barcode08_AMRFinder.tsv\n",
      "Processing file: barcode09_AMRFinder.tsv\n",
      "Processing file: barcode10_AMRFinder.tsv\n",
      "Processing file: barcode11_AMRFinder.tsv\n",
      "Processing file: barcode12_AMRFinder.tsv\n",
      "Finished Correctly, all sequences found\n"
     ]
    }
   ],
   "source": [
    "directory_path = \"ARG_Databases/AMRFinder_db/amrfinder_db_down/latest/\"\n",
    "output_dir = 'testing_outputs/AMRFINDER/'\n",
    "get_nuc_seqs_amrfinder(directory_path, output_dir, 'testing_output.fasta')"
   ]
  }
 ],
 "metadata": {
  "kernelspec": {
   "display_name": "Python 3 (ipykernel)",
   "language": "python",
   "name": "python3"
  },
  "language_info": {
   "codemirror_mode": {
    "name": "ipython",
    "version": 3
   },
   "file_extension": ".py",
   "mimetype": "text/x-python",
   "name": "python",
   "nbconvert_exporter": "python",
   "pygments_lexer": "ipython3",
   "version": "3.11.5"
  }
 },
 "nbformat": 4,
 "nbformat_minor": 5
}
