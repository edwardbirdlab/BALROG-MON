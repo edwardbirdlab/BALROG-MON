{
 "cells": [
  {
   "cell_type": "code",
   "execution_count": 2,
   "id": "4bca54ca-7bbd-450a-8ac7-754c18b2ed49",
   "metadata": {},
   "outputs": [],
   "source": [
    "import pandas as pd\n",
    "import os\n",
    "from Bio import SeqIO"
   ]
  },
  {
   "cell_type": "code",
   "execution_count": 15,
   "id": "e9b34e3d-022d-489c-b9f0-b54791b3d545",
   "metadata": {},
   "outputs": [],
   "source": [
    "def import_data(CARD_out_dir):\n",
    "    # Loop through files in the directory\n",
    "    seq_dict = {}\n",
    "    for filename in os.listdir(CARD_out_dir):\n",
    "        # Check if the entry is a file\n",
    "        filepath = os.path.join(CARD_out_dir, filename)\n",
    "        if os.path.isfile(filepath):\n",
    "            # Process the file\n",
    "            print(\"Processing file:\", filename)\n",
    "            card_out = pd.read_csv(filepath, sep='\\t')\n",
    "            for index,row in card_out.iterrows():\n",
    "                if not row['ARO'] in seq_dict.keys():\n",
    "                    seq_dict[row['ARO']] = row['CARD_Protein_Sequence']\n",
    "    return seq_dict"
   ]
  },
  {
   "cell_type": "code",
   "execution_count": 16,
   "id": "8434cd11-518a-4bd5-8c80-ed5ee12fd39d",
   "metadata": {},
   "outputs": [],
   "source": [
    "def write_fasta_dict_to_file(fasta_dict, output_file):\n",
    "    with open(output_file, \"w\") as output_handle:\n",
    "        for seq_id, seq in fasta_dict.items():\n",
    "            output_handle.write(f\">{seq_id}\\n\")\n",
    "            output_handle.write(f\"{seq}\\n\")"
   ]
  },
  {
   "cell_type": "code",
   "execution_count": 25,
   "id": "4450894c-ec0a-4cf9-ac0d-b6cdcecf61ab",
   "metadata": {},
   "outputs": [],
   "source": [
    "def whole_process(card_out_dir, output_file):\n",
    "    protein_seqs = import_data(card_out_dir)\n",
    "    write_fasta_dict_to_file(protein_seqs, output_file)"
   ]
  },
  {
   "cell_type": "code",
   "execution_count": 26,
   "id": "6033ba60-4285-476c-8b9e-cc4ffeb165ba",
   "metadata": {},
   "outputs": [
    {
     "name": "stdout",
     "output_type": "stream",
     "text": [
      "Processing file: barcode01_out.txt\n",
      "Processing file: barcode02_out.txt\n",
      "Processing file: barcode03_out.txt\n",
      "Processing file: barcode04_out.txt\n"
     ]
    }
   ],
   "source": [
    "whole_process('testing_outputs/CARD/', 'test.fpa')"
   ]
  },
  {
   "cell_type": "code",
   "execution_count": null,
   "id": "e7401c26-9c26-402e-a363-6af9e414a64e",
   "metadata": {},
   "outputs": [],
   "source": []
  }
 ],
 "metadata": {
  "kernelspec": {
   "display_name": "Python 3 (ipykernel)",
   "language": "python",
   "name": "python3"
  },
  "language_info": {
   "codemirror_mode": {
    "name": "ipython",
    "version": 3
   },
   "file_extension": ".py",
   "mimetype": "text/x-python",
   "name": "python",
   "nbconvert_exporter": "python",
   "pygments_lexer": "ipython3",
   "version": "3.11.5"
  }
 },
 "nbformat": 4,
 "nbformat_minor": 5
}
