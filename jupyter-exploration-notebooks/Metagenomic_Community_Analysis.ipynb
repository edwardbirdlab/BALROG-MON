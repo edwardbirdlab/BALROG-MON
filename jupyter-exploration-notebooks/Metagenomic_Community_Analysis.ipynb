{
 "cells": [
  {
   "cell_type": "code",
   "execution_count": 51,
   "id": "65c6882a-a87a-4d52-a269-53014032b6b6",
   "metadata": {},
   "outputs": [],
   "source": [
    "# load required libraries\n",
    "# R version 4.2.3\n",
    "library(stats) # v4.2.3\n",
    "library(tidyverse) # v2.0.0\n",
    "library(svglite) # v2.1.1\n",
    "\n",
    "# create plotting function\n",
    "plot_bracken <- function(file, top = NA, pal, otherColor){\n",
    "    \n",
    "    # file is the bracken data\n",
    "    # top is an integer, trims the data to the number of top taxa (by median) in a given level for better plotting\n",
    "    ## top = NA is the default and will plot all taxa in a given level\n",
    "    # pal is a palette of hex colors\n",
    "    # otherColor is the color used to represent taxa below median abundance threshold\n",
    "    \n",
    "    levdat <-\n",
    "      dplyr::select(file,\n",
    "                    -contains(c(\"_num\",\"taxonomy_\"))) |>\n",
    "      tidyr::pivot_longer(cols = !name,\n",
    "                          names_to = \"sample\",\n",
    "                          values_to = \"fraction\") |>\n",
    "      dplyr::mutate(sample = str_remove_all(sample, \"_frac\"))\n",
    "    \n",
    "    level <-\n",
    "      dplyr::select(file,\n",
    "                    contains(\"taxonomy_lvl\")) |>\n",
    "      unique()\n",
    "    \n",
    "    newpal <-\n",
    "      paste0(\"#\",\n",
    "             stringr::str_split(pal, \",\") |> unlist()\n",
    "      )\n",
    "    \n",
    "    if (level == \"K\") {\n",
    "        label <- \"Kingdom\"\n",
    "    } else if (level == \"P\") {\n",
    "        label <- \"Phylum\"\n",
    "    } else if (level == \"C\") {\n",
    "        label <- \"Class\"\n",
    "    } else if (level == \"O\") {\n",
    "        label <- \"Order\"\n",
    "    } else if (level == \"F\") {\n",
    "        label <- \"Family\"\n",
    "    } else if (level == \"G\") {\n",
    "        label <- \"Genus\"\n",
    "    } else if (level == \"S\") {\n",
    "        label <- \"Species\"\n",
    "    } else if (level == \"S1\") {\n",
    "        label <- \"Strain\"\n",
    "    } else {\n",
    "        message(\"Bracken taxonomy_lvl needs to be K, P, C, O, F, G, S, or S1\")\n",
    "    }\n",
    "    \n",
    "    if (!is.na(top) && top < length(unique(levdat$name))) {\n",
    "        \n",
    "        top_select <-\n",
    "          stats::aggregate(x = levdat$fraction,\n",
    "                           by = list(levdat$name),\n",
    "                           FUN = median) |>\n",
    "          purrr::set_names(c(\"group\",\"value\")) |>\n",
    "          dplyr::arrange(dplyr::desc(value)) |>\n",
    "          dplyr::slice(1:top) |>\n",
    "          dplyr::pull(var = group)\n",
    "        \n",
    "        levdat <- dplyr::filter(levdat, levdat$name %in% top_select)\n",
    "        \n",
    "        fill_unk <-\n",
    "          stats::aggregate(x = levdat$fraction,\n",
    "                           by = list(levdat$sample),\n",
    "                           FUN = sum) |> \n",
    "          purrr::set_names(c(\"sample\",\"sum\")) |> \n",
    "          dplyr::mutate_if(is.numeric, round, 3)\n",
    "        \n",
    "        fill_unk$residual <- 1 - fill_unk$sum\n",
    "        \n",
    "        for (i in 1:nrow(fill_unk)) {\n",
    "            \n",
    "            levdat <- rbind(levdat, c(\"other\", fill_unk[i,1], fill_unk[i,3]))\n",
    "            \n",
    "        }\n",
    "        \n",
    "        levdat <- transform(levdat, fraction = as.numeric(fraction))\n",
    "        levdat$name <- factor(levdat$name, levels = unique(levdat$name))\n",
    "        \n",
    "        fill_vals <- c(rep_len(newpal, nrow(unique(levdat[1]))-1), otherColor)\n",
    "        \n",
    "    } else {\n",
    "        \n",
    "        fill_vals <- c(rep_len(newpal, nrow(unique(levdat[1]))))\n",
    "        \n",
    "    }\n",
    "    \n",
    "    print(nrow(levdat))\n",
    "    \n",
    "    ggplot2::ggplot(data = levdat) +\n",
    "      ggplot2::geom_bar(mapping = ggplot2::aes(x = sample,\n",
    "                                                 y = fraction,\n",
    "                                                 fill = name),\n",
    "                        position = \"fill\",\n",
    "                        stat = \"identity\",\n",
    "                        width = 0.75) + \n",
    "      ggplot2::scale_fill_manual(paste(label),\n",
    "                                 values = fill_vals) +\n",
    "      ggplot2::theme_classic() +\n",
    "      ggplot2::scale_x_discrete(\"\") +\n",
    "      ggplot2::scale_y_continuous(\"Relative Abundance\") +\n",
    "      ggplot2::theme(axis.text.x = element_text(angle = -90, vjust = 0.5, hjust = 1, size = 15),\n",
    "              axis.text.y = element_text(size = 12),\n",
    "              axis.title.x = element_text(),\n",
    "              axis.title.y = element_text(size = 15),\n",
    "              legend.position = \"right\", \n",
    "              legend.text = element_text(size = 15))\n",
    "    \n",
    "    \n",
    "    \n",
    "}"
   ]
  },
  {
   "cell_type": "code",
   "execution_count": 52,
   "id": "39aacc1b-eee2-40d9-a842-8024ea658e18",
   "metadata": {},
   "outputs": [
    {
     "name": "stdout",
     "output_type": "stream",
     "text": [
      "[1] 88\n"
     ]
    },
    {
     "data": {
      "image/png": "[encoded data removed]",
      "text/plain": [
       "plot without title"
      ]
     },
     "metadata": {
      "image/png": {
       "height": 420,
       "width": 420
      }
     },
     "output_type": "display_data"
    }
   ],
   "source": [
    "# create plot\n",
    "# specify coltypes to prevent F character (family) from being read as logical FALSE\n",
    "notLogical <- cols(taxonomy_lvl = col_character())\n",
    "p1 <- plot_bracken(file = readr::read_tsv(file = \"bracken/F/merged_bracken_F_fixed.bracken.txt\",\n",
    "                                          col_names = TRUE,\n",
    "                                          col_types = notLogical),\n",
    "                   top = 10,\n",
    "                   pal = \"5c2751,ef798a,f7a9a8,00798c,6457a6,9dacff,76e5fc,a30000,ff7700,f5b841\",\n",
    "                   otherColor = \"gray\")\n",
    "\n",
    "\n",
    "p1 "
   ]
  },
  {
   "cell_type": "code",
   "execution_count": 53,
   "id": "6d99a4a3-9578-40d6-a5ad-812355c1b1cd",
   "metadata": {},
   "outputs": [],
   "source": [
    "# save as svg, pdf\n",
    "ggsave(filename = \"plots/bracken_plot_F.svg\",\n",
    "       plot = p1, units = \"in\",\n",
    "       width = 10,\n",
    "       height = 6)\n",
    "\n",
    "ggsave(filename = \"plots/bracken_plot_F.pdf\",\n",
    "       plot = p1, units = \"in\",\n",
    "       width = 10,\n",
    "       height = 6)"
   ]
  },
  {
   "cell_type": "code",
   "execution_count": 4,
   "id": "eb3e0cad-cc08-4d9b-86de-58948ce94c8e",
   "metadata": {},
   "outputs": [
    {
     "name": "stdout",
     "output_type": "stream",
     "text": [
      "[1] 88\n"
     ]
    },
    {
     "data": {
      "image/png": "[encoded data removed]",
      "text/plain": [
       "plot without title"
      ]
     },
     "metadata": {
      "image/png": {
       "height": 420,
       "width": 420
      }
     },
     "output_type": "display_data"
    }
   ],
   "source": [
    "# create plot\n",
    "# specify coltypes to prevent F character (family) from being read as logical FALSE\n",
    "notLogical <- cols(taxonomy_lvl = col_character())\n",
    "p1 <- plot_bracken(file = readr::read_tsv(file = \"bracken/G/merged_bracken_G_fixed.bracken.txt\",\n",
    "                                          col_names = TRUE,\n",
    "                                          col_types = notLogical),\n",
    "                   top = 10,\n",
    "                   pal = \"05a8aa,b8d5b8,d7b49e,dc602e,bc412b,791e94,2f4858,293f14,386c0b,550527\",\n",
    "                   otherColor = \"gray\")\n",
    "\n",
    "p1 "
   ]
  },
  {
   "cell_type": "code",
   "execution_count": 5,
   "id": "298611c2-2322-4afe-a94a-b51b022cf2af",
   "metadata": {},
   "outputs": [],
   "source": [
    "# save as svg, pdf\n",
    "ggsave(filename = \"plots/bracken_plot_G.svg\",\n",
    "       plot = p1, units = \"in\",\n",
    "       width = 10,\n",
    "       height = 6)\n",
    "\n",
    "ggsave(filename = \"plots/bracken_plot_G.pdf\",\n",
    "       plot = p1, units = \"in\",\n",
    "       width = 10,\n",
    "       height = 6)"
   ]
  },
  {
   "cell_type": "code",
   "execution_count": 6,
   "id": "a5041f3b-b3e7-4e6c-8716-b1699cf0e3d0",
   "metadata": {},
   "outputs": [
    {
     "name": "stdout",
     "output_type": "stream",
     "text": [
      "[1] 88\n"
     ]
    },
    {
     "data": {
      "image/png": "[encoded data removed]",
      "text/plain": [
       "plot without title"
      ]
     },
     "metadata": {
      "image/png": {
       "height": 420,
       "width": 420
      }
     },
     "output_type": "display_data"
    }
   ],
   "source": [
    "# create plot\n",
    "# specify coltypes to prevent F character (family) from being read as logical FALSE\n",
    "notLogical <- cols(taxonomy_lvl = col_character())\n",
    "p1 <- plot_bracken(file = readr::read_tsv(file = \"bracken/S/merged_bracken_S_fixed.bracken.txt\",\n",
    "                                          col_names = TRUE,\n",
    "                                          col_types = notLogical),\n",
    "                   top = 10,\n",
    "                   pal = \"99d5c9,6c969d,645e9d,392b58,2d0320,f9c784,fcaf58,ff8c42,cc2936,ebbab9\",\n",
    "                   otherColor = \"gray\")\n",
    "\n",
    "p1 "
   ]
  },
  {
   "cell_type": "code",
   "execution_count": 7,
   "id": "3ba6b451-dc71-4ad9-b23d-591a7a4e6b2f",
   "metadata": {},
   "outputs": [],
   "source": [
    "# save as svg, pdf\n",
    "ggsave(filename = \"plots/bracken_plot_S.svg\",\n",
    "       plot = p1, units = \"in\",\n",
    "       width = 10,\n",
    "       height = 6)\n",
    "\n",
    "ggsave(filename = \"plots/bracken_plot_S.pdf\",\n",
    "       plot = p1, units = \"in\",\n",
    "       width = 10,\n",
    "       height = 6)"
   ]
  },
  {
   "cell_type": "code",
   "execution_count": 8,
   "id": "d4098449-a07a-456b-bbb7-13ddce9eabcc",
   "metadata": {},
   "outputs": [
    {
     "name": "stderr",
     "output_type": "stream",
     "text": [
      "Loading required package: permute\n",
      "\n",
      "Loading required package: lattice\n",
      "\n",
      "This is vegan 2.6-4\n",
      "\n",
      "Loading required package: survival\n",
      "\n"
     ]
    }
   ],
   "source": [
    "library('tidyverse')\n",
    "library('vegan')\n",
    "library('coin')\n",
    "library('pheatmap')"
   ]
  },
  {
   "cell_type": "code",
   "execution_count": 9,
   "id": "8759bc4f-50d7-4001-81b2-282f0ea09e3d",
   "metadata": {},
   "outputs": [],
   "source": [
    "brel= readr::read_tsv(file = \"bracken/S/merged_bracken_S_fixed.bracken.txt\",\n",
    "                                          col_names = TRUE,\n",
    "                                          col_types = notLogical)\n",
    "brel[is.na(brel)] <- 0"
   ]
  },
  {
   "cell_type": "code",
   "execution_count": 10,
   "id": "c98da7e4-9e42-447d-b392-aaaca16dd415",
   "metadata": {},
   "outputs": [
    {
     "data": {
      "text/html": [
       "<table class=\"dataframe\">\n",
       "<caption>A tibble: 6 × 19</caption>\n",
       "<thead>\n",
       "\t<tr><th scope=col>name</th><th scope=col>taxonomy_id</th><th scope=col>taxonomy_lvl</th><th scope=col>Rural_1_num</th><th scope=col>Rural_1_frac</th><th scope=col>Rural_2_num</th><th scope=col>Rural_2_frac</th><th scope=col>Rural_3_num</th><th scope=col>Rural_3_frac</th><th scope=col>Rural_4_num</th><th scope=col>Rural_4_frac</th><th scope=col>Urban_1_num</th><th scope=col>Urban_1_frac</th><th scope=col>Urban_2_num</th><th scope=col>Urban_2_frac</th><th scope=col>Urban_3_num</th><th scope=col>Urban_3_frac</th><th scope=col>Urban_4_num</th><th scope=col>Urban_4_frac</th></tr>\n",
       "\t<tr><th scope=col>&lt;chr&gt;</th><th scope=col>&lt;dbl&gt;</th><th scope=col>&lt;chr&gt;</th><th scope=col>&lt;dbl&gt;</th><th scope=col>&lt;dbl&gt;</th><th scope=col>&lt;dbl&gt;</th><th scope=col>&lt;dbl&gt;</th><th scope=col>&lt;dbl&gt;</th><th scope=col>&lt;dbl&gt;</th><th scope=col>&lt;dbl&gt;</th><th scope=col>&lt;dbl&gt;</th><th scope=col>&lt;dbl&gt;</th><th scope=col>&lt;dbl&gt;</th><th scope=col>&lt;dbl&gt;</th><th scope=col>&lt;dbl&gt;</th><th scope=col>&lt;dbl&gt;</th><th scope=col>&lt;dbl&gt;</th><th scope=col>&lt;dbl&gt;</th><th scope=col>&lt;dbl&gt;</th></tr>\n",
       "</thead>\n",
       "<tbody>\n",
       "\t<tr><td>Leishmania mexicana    </td><td>5665</td><td>S</td><td>105</td><td>0.10284035</td><td>296</td><td>0.07431584</td><td> 38</td><td>0.01479175</td><td> 24</td><td>0.02068966</td><td>  0</td><td>0.00000000</td><td> 31</td><td>0.006473168</td><td>167</td><td>0.021027449</td><td>305</td><td>0.011692095</td></tr>\n",
       "\t<tr><td>Leishmania major       </td><td>5664</td><td>S</td><td> 65</td><td>0.06366307</td><td>178</td><td>0.04468993</td><td> 32</td><td>0.01245621</td><td>  0</td><td>0.00000000</td><td>  0</td><td>0.00000000</td><td>  0</td><td>0.000000000</td><td> 85</td><td>0.010702594</td><td>161</td><td>0.006171893</td></tr>\n",
       "\t<tr><td>Leishmania panamensis  </td><td>5679</td><td>S</td><td> 38</td><td>0.03721841</td><td>138</td><td>0.03464725</td><td>  0</td><td>0.00000000</td><td>  0</td><td>0.00000000</td><td>  0</td><td>0.00000000</td><td>  0</td><td>0.000000000</td><td> 84</td><td>0.010576681</td><td>134</td><td>0.005136855</td></tr>\n",
       "\t<tr><td>Leishmania braziliensis</td><td>5660</td><td>S</td><td> 23</td><td>0.02252693</td><td> 78</td><td>0.01958323</td><td>  0</td><td>0.00000000</td><td>  0</td><td>0.00000000</td><td>  0</td><td>0.00000000</td><td>  0</td><td>0.000000000</td><td> 34</td><td>0.004281038</td><td> 79</td><td>0.003028444</td></tr>\n",
       "\t<tr><td>Trypanosoma brucei     </td><td>5691</td><td>S</td><td> 48</td><td>0.04701273</td><td> 66</td><td>0.01657042</td><td>  0</td><td>0.00000000</td><td>  0</td><td>0.00000000</td><td>  0</td><td>0.00000000</td><td>  0</td><td>0.000000000</td><td> 27</td><td>0.003399647</td><td> 64</td><td>0.002453423</td></tr>\n",
       "\t<tr><td>Klebsiella pneumoniae  </td><td> 573</td><td>S</td><td>181</td><td>0.17727718</td><td>518</td><td>0.13005272</td><td>442</td><td>0.17205138</td><td>293</td><td>0.25258621</td><td>556</td><td>0.02586046</td><td>281</td><td>0.058676133</td><td>449</td><td>0.056534878</td><td>382</td><td>0.014643870</td></tr>\n",
       "</tbody>\n",
       "</table>\n"
      ],
      "text/latex": [
       "A tibble: 6 × 19\n",
       "\\begin{tabular}{lllllllllllllllllll}\n",
       " name & taxonomy\\_id & taxonomy\\_lvl & Rural\\_1\\_num & Rural\\_1\\_frac & Rural\\_2\\_num & Rural\\_2\\_frac & Rural\\_3\\_num & Rural\\_3\\_frac & Rural\\_4\\_num & Rural\\_4\\_frac & Urban\\_1\\_num & Urban\\_1\\_frac & Urban\\_2\\_num & Urban\\_2\\_frac & Urban\\_3\\_num & Urban\\_3\\_frac & Urban\\_4\\_num & Urban\\_4\\_frac\\\\\n",
       " <chr> & <dbl> & <chr> & <dbl> & <dbl> & <dbl> & <dbl> & <dbl> & <dbl> & <dbl> & <dbl> & <dbl> & <dbl> & <dbl> & <dbl> & <dbl> & <dbl> & <dbl> & <dbl>\\\\\n",
       "\\hline\n",
       "\t Leishmania mexicana     & 5665 & S & 105 & 0.10284035 & 296 & 0.07431584 &  38 & 0.01479175 &  24 & 0.02068966 &   0 & 0.00000000 &  31 & 0.006473168 & 167 & 0.021027449 & 305 & 0.011692095\\\\\n",
       "\t Leishmania major        & 5664 & S &  65 & 0.06366307 & 178 & 0.04468993 &  32 & 0.01245621 &   0 & 0.00000000 &   0 & 0.00000000 &   0 & 0.000000000 &  85 & 0.010702594 & 161 & 0.006171893\\\\\n",
       "\t Leishmania panamensis   & 5679 & S &  38 & 0.03721841 & 138 & 0.03464725 &   0 & 0.00000000 &   0 & 0.00000000 &   0 & 0.00000000 &   0 & 0.000000000 &  84 & 0.010576681 & 134 & 0.005136855\\\\\n",
       "\t Leishmania braziliensis & 5660 & S &  23 & 0.02252693 &  78 & 0.01958323 &   0 & 0.00000000 &   0 & 0.00000000 &   0 & 0.00000000 &   0 & 0.000000000 &  34 & 0.004281038 &  79 & 0.003028444\\\\\n",
       "\t Trypanosoma brucei      & 5691 & S &  48 & 0.04701273 &  66 & 0.01657042 &   0 & 0.00000000 &   0 & 0.00000000 &   0 & 0.00000000 &   0 & 0.000000000 &  27 & 0.003399647 &  64 & 0.002453423\\\\\n",
       "\t Klebsiella pneumoniae   &  573 & S & 181 & 0.17727718 & 518 & 0.13005272 & 442 & 0.17205138 & 293 & 0.25258621 & 556 & 0.02586046 & 281 & 0.058676133 & 449 & 0.056534878 & 382 & 0.014643870\\\\\n",
       "\\end{tabular}\n"
      ],
      "text/markdown": [
       "\n",
       "A tibble: 6 × 19\n",
       "\n",
       "| name &lt;chr&gt; | taxonomy_id &lt;dbl&gt; | taxonomy_lvl &lt;chr&gt; | Rural_1_num &lt;dbl&gt; | Rural_1_frac &lt;dbl&gt; | Rural_2_num &lt;dbl&gt; | Rural_2_frac &lt;dbl&gt; | Rural_3_num &lt;dbl&gt; | Rural_3_frac &lt;dbl&gt; | Rural_4_num &lt;dbl&gt; | Rural_4_frac &lt;dbl&gt; | Urban_1_num &lt;dbl&gt; | Urban_1_frac &lt;dbl&gt; | Urban_2_num &lt;dbl&gt; | Urban_2_frac &lt;dbl&gt; | Urban_3_num &lt;dbl&gt; | Urban_3_frac &lt;dbl&gt; | Urban_4_num &lt;dbl&gt; | Urban_4_frac &lt;dbl&gt; |\n",
       "|---|---|---|---|---|---|---|---|---|---|---|---|---|---|---|---|---|---|---|\n",
       "| Leishmania mexicana     | 5665 | S | 105 | 0.10284035 | 296 | 0.07431584 |  38 | 0.01479175 |  24 | 0.02068966 |   0 | 0.00000000 |  31 | 0.006473168 | 167 | 0.021027449 | 305 | 0.011692095 |\n",
       "| Leishmania major        | 5664 | S |  65 | 0.06366307 | 178 | 0.04468993 |  32 | 0.01245621 |   0 | 0.00000000 |   0 | 0.00000000 |   0 | 0.000000000 |  85 | 0.010702594 | 161 | 0.006171893 |\n",
       "| Leishmania panamensis   | 5679 | S |  38 | 0.03721841 | 138 | 0.03464725 |   0 | 0.00000000 |   0 | 0.00000000 |   0 | 0.00000000 |   0 | 0.000000000 |  84 | 0.010576681 | 134 | 0.005136855 |\n",
       "| Leishmania braziliensis | 5660 | S |  23 | 0.02252693 |  78 | 0.01958323 |   0 | 0.00000000 |   0 | 0.00000000 |   0 | 0.00000000 |   0 | 0.000000000 |  34 | 0.004281038 |  79 | 0.003028444 |\n",
       "| Trypanosoma brucei      | 5691 | S |  48 | 0.04701273 |  66 | 0.01657042 |   0 | 0.00000000 |   0 | 0.00000000 |   0 | 0.00000000 |   0 | 0.000000000 |  27 | 0.003399647 |  64 | 0.002453423 |\n",
       "| Klebsiella pneumoniae   |  573 | S | 181 | 0.17727718 | 518 | 0.13005272 | 442 | 0.17205138 | 293 | 0.25258621 | 556 | 0.02586046 | 281 | 0.058676133 | 449 | 0.056534878 | 382 | 0.014643870 |\n",
       "\n"
      ],
      "text/plain": [
       "  name                    taxonomy_id taxonomy_lvl Rural_1_num Rural_1_frac\n",
       "1 Leishmania mexicana     5665        S            105         0.10284035  \n",
       "2 Leishmania major        5664        S             65         0.06366307  \n",
       "3 Leishmania panamensis   5679        S             38         0.03721841  \n",
       "4 Leishmania braziliensis 5660        S             23         0.02252693  \n",
       "5 Trypanosoma brucei      5691        S             48         0.04701273  \n",
       "6 Klebsiella pneumoniae    573        S            181         0.17727718  \n",
       "  Rural_2_num Rural_2_frac Rural_3_num Rural_3_frac Rural_4_num Rural_4_frac\n",
       "1 296         0.07431584    38         0.01479175    24         0.02068966  \n",
       "2 178         0.04468993    32         0.01245621     0         0.00000000  \n",
       "3 138         0.03464725     0         0.00000000     0         0.00000000  \n",
       "4  78         0.01958323     0         0.00000000     0         0.00000000  \n",
       "5  66         0.01657042     0         0.00000000     0         0.00000000  \n",
       "6 518         0.13005272   442         0.17205138   293         0.25258621  \n",
       "  Urban_1_num Urban_1_frac Urban_2_num Urban_2_frac Urban_3_num Urban_3_frac\n",
       "1   0         0.00000000    31         0.006473168  167         0.021027449 \n",
       "2   0         0.00000000     0         0.000000000   85         0.010702594 \n",
       "3   0         0.00000000     0         0.000000000   84         0.010576681 \n",
       "4   0         0.00000000     0         0.000000000   34         0.004281038 \n",
       "5   0         0.00000000     0         0.000000000   27         0.003399647 \n",
       "6 556         0.02586046   281         0.058676133  449         0.056534878 \n",
       "  Urban_4_num Urban_4_frac\n",
       "1 305         0.011692095 \n",
       "2 161         0.006171893 \n",
       "3 134         0.005136855 \n",
       "4  79         0.003028444 \n",
       "5  64         0.002453423 \n",
       "6 382         0.014643870 "
      ]
     },
     "metadata": {},
     "output_type": "display_data"
    }
   ],
   "source": [
    "head(brel)"
   ]
  },
  {
   "cell_type": "code",
   "execution_count": 11,
   "id": "bda66f2e-ba40-490b-bce3-ae57b9cd297a",
   "metadata": {},
   "outputs": [
    {
     "data": {
      "text/html": [
       "<table class=\"dataframe\">\n",
       "<caption>A tibble: 6 × 9</caption>\n",
       "<thead>\n",
       "\t<tr><th scope=col>name</th><th scope=col>Rural_1_frac</th><th scope=col>Rural_2_frac</th><th scope=col>Rural_3_frac</th><th scope=col>Rural_4_frac</th><th scope=col>Urban_1_frac</th><th scope=col>Urban_2_frac</th><th scope=col>Urban_3_frac</th><th scope=col>Urban_4_frac</th></tr>\n",
       "\t<tr><th scope=col>&lt;chr&gt;</th><th scope=col>&lt;dbl&gt;</th><th scope=col>&lt;dbl&gt;</th><th scope=col>&lt;dbl&gt;</th><th scope=col>&lt;dbl&gt;</th><th scope=col>&lt;dbl&gt;</th><th scope=col>&lt;dbl&gt;</th><th scope=col>&lt;dbl&gt;</th><th scope=col>&lt;dbl&gt;</th></tr>\n",
       "</thead>\n",
       "<tbody>\n",
       "\t<tr><td>Leishmania mexicana    </td><td>0.10284035</td><td>0.07431584</td><td>0.01479175</td><td>0.02068966</td><td>0.00000000</td><td>0.006473168</td><td>0.021027449</td><td>0.011692095</td></tr>\n",
       "\t<tr><td>Leishmania major       </td><td>0.06366307</td><td>0.04468993</td><td>0.01245621</td><td>0.00000000</td><td>0.00000000</td><td>0.000000000</td><td>0.010702594</td><td>0.006171893</td></tr>\n",
       "\t<tr><td>Leishmania panamensis  </td><td>0.03721841</td><td>0.03464725</td><td>0.00000000</td><td>0.00000000</td><td>0.00000000</td><td>0.000000000</td><td>0.010576681</td><td>0.005136855</td></tr>\n",
       "\t<tr><td>Leishmania braziliensis</td><td>0.02252693</td><td>0.01958323</td><td>0.00000000</td><td>0.00000000</td><td>0.00000000</td><td>0.000000000</td><td>0.004281038</td><td>0.003028444</td></tr>\n",
       "\t<tr><td>Trypanosoma brucei     </td><td>0.04701273</td><td>0.01657042</td><td>0.00000000</td><td>0.00000000</td><td>0.00000000</td><td>0.000000000</td><td>0.003399647</td><td>0.002453423</td></tr>\n",
       "\t<tr><td>Klebsiella pneumoniae  </td><td>0.17727718</td><td>0.13005272</td><td>0.17205138</td><td>0.25258621</td><td>0.02586046</td><td>0.058676133</td><td>0.056534878</td><td>0.014643870</td></tr>\n",
       "</tbody>\n",
       "</table>\n"
      ],
      "text/latex": [
       "A tibble: 6 × 9\n",
       "\\begin{tabular}{lllllllll}\n",
       " name & Rural\\_1\\_frac & Rural\\_2\\_frac & Rural\\_3\\_frac & Rural\\_4\\_frac & Urban\\_1\\_frac & Urban\\_2\\_frac & Urban\\_3\\_frac & Urban\\_4\\_frac\\\\\n",
       " <chr> & <dbl> & <dbl> & <dbl> & <dbl> & <dbl> & <dbl> & <dbl> & <dbl>\\\\\n",
       "\\hline\n",
       "\t Leishmania mexicana     & 0.10284035 & 0.07431584 & 0.01479175 & 0.02068966 & 0.00000000 & 0.006473168 & 0.021027449 & 0.011692095\\\\\n",
       "\t Leishmania major        & 0.06366307 & 0.04468993 & 0.01245621 & 0.00000000 & 0.00000000 & 0.000000000 & 0.010702594 & 0.006171893\\\\\n",
       "\t Leishmania panamensis   & 0.03721841 & 0.03464725 & 0.00000000 & 0.00000000 & 0.00000000 & 0.000000000 & 0.010576681 & 0.005136855\\\\\n",
       "\t Leishmania braziliensis & 0.02252693 & 0.01958323 & 0.00000000 & 0.00000000 & 0.00000000 & 0.000000000 & 0.004281038 & 0.003028444\\\\\n",
       "\t Trypanosoma brucei      & 0.04701273 & 0.01657042 & 0.00000000 & 0.00000000 & 0.00000000 & 0.000000000 & 0.003399647 & 0.002453423\\\\\n",
       "\t Klebsiella pneumoniae   & 0.17727718 & 0.13005272 & 0.17205138 & 0.25258621 & 0.02586046 & 0.058676133 & 0.056534878 & 0.014643870\\\\\n",
       "\\end{tabular}\n"
      ],
      "text/markdown": [
       "\n",
       "A tibble: 6 × 9\n",
       "\n",
       "| name &lt;chr&gt; | Rural_1_frac &lt;dbl&gt; | Rural_2_frac &lt;dbl&gt; | Rural_3_frac &lt;dbl&gt; | Rural_4_frac &lt;dbl&gt; | Urban_1_frac &lt;dbl&gt; | Urban_2_frac &lt;dbl&gt; | Urban_3_frac &lt;dbl&gt; | Urban_4_frac &lt;dbl&gt; |\n",
       "|---|---|---|---|---|---|---|---|---|\n",
       "| Leishmania mexicana     | 0.10284035 | 0.07431584 | 0.01479175 | 0.02068966 | 0.00000000 | 0.006473168 | 0.021027449 | 0.011692095 |\n",
       "| Leishmania major        | 0.06366307 | 0.04468993 | 0.01245621 | 0.00000000 | 0.00000000 | 0.000000000 | 0.010702594 | 0.006171893 |\n",
       "| Leishmania panamensis   | 0.03721841 | 0.03464725 | 0.00000000 | 0.00000000 | 0.00000000 | 0.000000000 | 0.010576681 | 0.005136855 |\n",
       "| Leishmania braziliensis | 0.02252693 | 0.01958323 | 0.00000000 | 0.00000000 | 0.00000000 | 0.000000000 | 0.004281038 | 0.003028444 |\n",
       "| Trypanosoma brucei      | 0.04701273 | 0.01657042 | 0.00000000 | 0.00000000 | 0.00000000 | 0.000000000 | 0.003399647 | 0.002453423 |\n",
       "| Klebsiella pneumoniae   | 0.17727718 | 0.13005272 | 0.17205138 | 0.25258621 | 0.02586046 | 0.058676133 | 0.056534878 | 0.014643870 |\n",
       "\n"
      ],
      "text/plain": [
       "  name                    Rural_1_frac Rural_2_frac Rural_3_frac Rural_4_frac\n",
       "1 Leishmania mexicana     0.10284035   0.07431584   0.01479175   0.02068966  \n",
       "2 Leishmania major        0.06366307   0.04468993   0.01245621   0.00000000  \n",
       "3 Leishmania panamensis   0.03721841   0.03464725   0.00000000   0.00000000  \n",
       "4 Leishmania braziliensis 0.02252693   0.01958323   0.00000000   0.00000000  \n",
       "5 Trypanosoma brucei      0.04701273   0.01657042   0.00000000   0.00000000  \n",
       "6 Klebsiella pneumoniae   0.17727718   0.13005272   0.17205138   0.25258621  \n",
       "  Urban_1_frac Urban_2_frac Urban_3_frac Urban_4_frac\n",
       "1 0.00000000   0.006473168  0.021027449  0.011692095 \n",
       "2 0.00000000   0.000000000  0.010702594  0.006171893 \n",
       "3 0.00000000   0.000000000  0.010576681  0.005136855 \n",
       "4 0.00000000   0.000000000  0.004281038  0.003028444 \n",
       "5 0.00000000   0.000000000  0.003399647  0.002453423 \n",
       "6 0.02586046   0.058676133  0.056534878  0.014643870 "
      ]
     },
     "metadata": {},
     "output_type": "display_data"
    }
   ],
   "source": [
    "brel_spec<-subset(brel, taxonomy_lvl == \"S\") %>% \n",
    "  select(-c(\"taxonomy_id\",\"taxonomy_lvl\")) %>%\n",
    "  filter(rowSums(select_if(., is.numeric)) != 0) %>%\n",
    "  select(-matches(\"_num\"))\n",
    "head(brel_spec)"
   ]
  },
  {
   "cell_type": "code",
   "execution_count": 12,
   "id": "32781dcf-35c1-4726-8707-e6efba010902",
   "metadata": {},
   "outputs": [
    {
     "name": "stdout",
     "output_type": "stream",
     "text": [
      "Run 0 stress 9.247795e-05 \n",
      "Run 1 stress 9.394427e-05 \n",
      "... Procrustes: rmse 0.1344369  max resid 0.2676181 \n",
      "Run 2 stress 9.053029e-05 \n",
      "... New best solution\n",
      "... Procrustes: rmse 0.134425  max resid 0.2676382 \n",
      "Run 3 stress 0.0002026709 \n",
      "... Procrustes: rmse 0.1075032  max resid 0.2094667 \n",
      "Run 4 stress 9.968903e-05 \n",
      "... Procrustes: rmse 0.02810574  max resid 0.05625943 \n",
      "Run 5 stress 9.787636e-05 \n",
      "... Procrustes: rmse 0.1648991  max resid 0.3089465 \n",
      "Run 6 stress 8.943911e-05 \n",
      "... New best solution\n",
      "... Procrustes: rmse 1.561321e-05  max resid 2.706373e-05 \n",
      "... Similar to previous best\n",
      "Run 7 stress 9.037287e-05 \n",
      "... Procrustes: rmse 0.1503305  max resid 0.285021 \n",
      "Run 8 stress 0.0003975871 \n",
      "... Procrustes: rmse 0.1017194  max resid 0.1987697 \n",
      "Run 9 stress 0.0003661657 \n",
      "... Procrustes: rmse 0.1088786  max resid 0.2119916 \n",
      "Run 10 stress 0.0007656783 \n",
      "Run 11 stress 0.0001529055 \n",
      "... Procrustes: rmse 0.1178462  max resid 0.2283404 \n",
      "Run 12 stress 9.842178e-05 \n",
      "... Procrustes: rmse 0.1443142  max resid 0.2748507 \n",
      "Run 13 stress 9.85628e-05 \n",
      "... Procrustes: rmse 0.1662513  max resid 0.3111289 \n",
      "Run 14 stress 0.2568281 \n",
      "Run 15 stress 9.546121e-05 \n",
      "... Procrustes: rmse 0.1401457  max resid 0.2677109 \n",
      "Run 16 stress 0.0001574181 \n",
      "... Procrustes: rmse 0.09285779  max resid 0.1822255 \n",
      "Run 17 stress 9.587786e-05 \n",
      "... Procrustes: rmse 0.0001502959  max resid 0.0002404181 \n",
      "... Similar to previous best\n",
      "Run 18 stress 0.0004137852 \n",
      "... Procrustes: rmse 0.06829989  max resid 0.1351881 \n",
      "Run 19 stress 9.668478e-05 \n",
      "... Procrustes: rmse 4.564793e-05  max resid 8.588774e-05 \n",
      "... Similar to previous best\n",
      "Run 20 stress 9.627931e-05 \n",
      "... Procrustes: rmse 0.1639837  max resid 0.3074876 \n",
      "*** Best solution repeated 3 times\n"
     ]
    },
    {
     "name": "stderr",
     "output_type": "stream",
     "text": [
      "Warning message in metaMDS(brel_spec_gg2_dist, distance = \"bray\", k = 2):\n",
      "\"stress is (nearly) zero: you may have insufficient data\"\n"
     ]
    },
    {
     "data": {
      "text/plain": [
       "\n",
       "Call:\n",
       "metaMDS(comm = brel_spec_gg2_dist, distance = \"bray\", k = 2) \n",
       "\n",
       "global Multidimensional Scaling using monoMDS\n",
       "\n",
       "Data:     brel_spec_gg2_dist \n",
       "Distance: bray \n",
       "\n",
       "Dimensions: 2 \n",
       "Stress:     8.943911e-05 \n",
       "Stress type 1, weak ties\n",
       "Best solution was repeated 3 times in 20 tries\n",
       "The best solution was from try 6 (random start)\n",
       "Scaling: centring, PC rotation, halfchange scaling \n",
       "Species: scores missing\n"
      ]
     },
     "metadata": {},
     "output_type": "display_data"
    }
   ],
   "source": [
    "# To ensure reproducibility we can fix the seed here. This will ensure you always get the same result each time you run your data.\n",
    "set.seed(34521)\n",
    "\n",
    "# Data mingling\n",
    "brel_spec_gg2 <- brel_spec %>% \n",
    "  column_to_rownames(\"name\") %>% \n",
    "  t() # transpose\n",
    "\n",
    "# Calculate distance matrix\n",
    "brel_spec_gg2_dist <- vegdist(brel_spec_gg2, method = \"bray\")\n",
    "\n",
    "# Perform NMDS on distance matrix\n",
    "nmds_spec<-metaMDS(brel_spec_gg2_dist,distance = \"bray\",k = 2)\n",
    "\n",
    "# Check the output\n",
    "nmds_spec"
   ]
  },
  {
   "cell_type": "code",
   "execution_count": 13,
   "id": "f68045fa-b858-45ee-94e2-44432386bcb0",
   "metadata": {},
   "outputs": [],
   "source": [
    "# Extract and reshape the data to plot ordination as ggplot  and add the metadata\n",
    "nmds_spec_gg<-as.data.frame(nmds_spec$points) %>%\n",
    "  rownames_to_column(\"Sample\")"
   ]
  },
  {
   "cell_type": "code",
   "execution_count": 14,
   "id": "875a20c0-c7b7-44ba-91de-68c7f4808b5b",
   "metadata": {},
   "outputs": [],
   "source": [
    "nmds_spec_gg$Sample <- c(\"Fly-C1\",\"Fly-C2\",\"Fly-C3\",\"Fly-C4\",\"Fly-D1\",\"Fly-D2\",\"Fly-D3\",\"Fly-D4\")\n",
    "nmds_spec_gg$Site <- c(\"Cattle Op\",\"Cattle Op\",\"Cattle Op\",\"Cattle Op\",\"Dumpster\",\"Dumpster\",\"Dumpster\",\"Dumpster\")"
   ]
  },
  {
   "cell_type": "code",
   "execution_count": 15,
   "id": "d49f5ff0-8e6f-4021-ba1a-c6642559c508",
   "metadata": {},
   "outputs": [
    {
     "data": {
      "text/html": [
       "<table class=\"dataframe\">\n",
       "<caption>A data.frame: 8 × 4</caption>\n",
       "<thead>\n",
       "\t<tr><th scope=col>Sample</th><th scope=col>MDS1</th><th scope=col>MDS2</th><th scope=col>Site</th></tr>\n",
       "\t<tr><th scope=col>&lt;chr&gt;</th><th scope=col>&lt;dbl&gt;</th><th scope=col>&lt;dbl&gt;</th><th scope=col>&lt;chr&gt;</th></tr>\n",
       "</thead>\n",
       "<tbody>\n",
       "\t<tr><td>Fly-C1</td><td>-0.5494584</td><td> 1.788160e-04</td><td>Cattle Op</td></tr>\n",
       "\t<tr><td>Fly-C2</td><td>-0.5493455</td><td>-8.058436e-05</td><td>Cattle Op</td></tr>\n",
       "\t<tr><td>Fly-C3</td><td>-0.5494031</td><td>-4.336734e-04</td><td>Cattle Op</td></tr>\n",
       "\t<tr><td>Fly-C4</td><td>-0.5492046</td><td> 3.355450e-04</td><td>Cattle Op</td></tr>\n",
       "\t<tr><td>Fly-D1</td><td> 0.5495473</td><td> 9.948135e-05</td><td>Dumpster </td></tr>\n",
       "\t<tr><td>Fly-D2</td><td> 0.5492577</td><td>-1.742442e-04</td><td>Dumpster </td></tr>\n",
       "\t<tr><td>Fly-D3</td><td> 0.5491803</td><td>-8.081087e-05</td><td>Dumpster </td></tr>\n",
       "\t<tr><td>Fly-D4</td><td> 0.5494263</td><td> 1.554706e-04</td><td>Dumpster </td></tr>\n",
       "</tbody>\n",
       "</table>\n"
      ],
      "text/latex": [
       "A data.frame: 8 × 4\n",
       "\\begin{tabular}{llll}\n",
       " Sample & MDS1 & MDS2 & Site\\\\\n",
       " <chr> & <dbl> & <dbl> & <chr>\\\\\n",
       "\\hline\n",
       "\t Fly-C1 & -0.5494584 &  1.788160e-04 & Cattle Op\\\\\n",
       "\t Fly-C2 & -0.5493455 & -8.058436e-05 & Cattle Op\\\\\n",
       "\t Fly-C3 & -0.5494031 & -4.336734e-04 & Cattle Op\\\\\n",
       "\t Fly-C4 & -0.5492046 &  3.355450e-04 & Cattle Op\\\\\n",
       "\t Fly-D1 &  0.5495473 &  9.948135e-05 & Dumpster \\\\\n",
       "\t Fly-D2 &  0.5492577 & -1.742442e-04 & Dumpster \\\\\n",
       "\t Fly-D3 &  0.5491803 & -8.081087e-05 & Dumpster \\\\\n",
       "\t Fly-D4 &  0.5494263 &  1.554706e-04 & Dumpster \\\\\n",
       "\\end{tabular}\n"
      ],
      "text/markdown": [
       "\n",
       "A data.frame: 8 × 4\n",
       "\n",
       "| Sample &lt;chr&gt; | MDS1 &lt;dbl&gt; | MDS2 &lt;dbl&gt; | Site &lt;chr&gt; |\n",
       "|---|---|---|---|\n",
       "| Fly-C1 | -0.5494584 |  1.788160e-04 | Cattle Op |\n",
       "| Fly-C2 | -0.5493455 | -8.058436e-05 | Cattle Op |\n",
       "| Fly-C3 | -0.5494031 | -4.336734e-04 | Cattle Op |\n",
       "| Fly-C4 | -0.5492046 |  3.355450e-04 | Cattle Op |\n",
       "| Fly-D1 |  0.5495473 |  9.948135e-05 | Dumpster  |\n",
       "| Fly-D2 |  0.5492577 | -1.742442e-04 | Dumpster  |\n",
       "| Fly-D3 |  0.5491803 | -8.081087e-05 | Dumpster  |\n",
       "| Fly-D4 |  0.5494263 |  1.554706e-04 | Dumpster  |\n",
       "\n"
      ],
      "text/plain": [
       "  Sample MDS1       MDS2          Site     \n",
       "1 Fly-C1 -0.5494584  1.788160e-04 Cattle Op\n",
       "2 Fly-C2 -0.5493455 -8.058436e-05 Cattle Op\n",
       "3 Fly-C3 -0.5494031 -4.336734e-04 Cattle Op\n",
       "4 Fly-C4 -0.5492046  3.355450e-04 Cattle Op\n",
       "5 Fly-D1  0.5495473  9.948135e-05 Dumpster \n",
       "6 Fly-D2  0.5492577 -1.742442e-04 Dumpster \n",
       "7 Fly-D3  0.5491803 -8.081087e-05 Dumpster \n",
       "8 Fly-D4  0.5494263  1.554706e-04 Dumpster "
      ]
     },
     "metadata": {},
     "output_type": "display_data"
    }
   ],
   "source": [
    "nmds_spec_gg"
   ]
  },
  {
   "cell_type": "code",
   "execution_count": 30,
   "id": "002367e7-993e-4947-b40b-1b135e4351ae",
   "metadata": {},
   "outputs": [
    {
     "name": "stdout",
     "output_type": "stream",
     "text": [
      "[1] \"dir exists\"\n",
      "[1] \"dir exists\"\n"
     ]
    },
    {
     "data": {
      "text/html": [
       "<strong>png:</strong> 2"
      ],
      "text/latex": [
       "\\textbf{png:} 2"
      ],
      "text/markdown": [
       "**png:** 2"
      ],
      "text/plain": [
       "png \n",
       "  2 "
      ]
     },
     "metadata": {},
     "output_type": "display_data"
    },
    {
     "data": {
      "image/png": "[encoded data removed]",
      "text/plain": [
       "plot without title"
      ]
     },
     "metadata": {
      "image/png": {
       "height": 420,
       "width": 420
      }
     },
     "output_type": "display_data"
    }
   ],
   "source": [
    "# Let's plot and color according to time point\n",
    "Shape_list <- list(21, 24)\n",
    "shape_col <- 'Site'\n",
    "fill_col <- 'Site'\n",
    "dot_size <- 7\n",
    "\n",
    "# plot_dpi\n",
    "dpi <- 300\n",
    "\n",
    "# width in Inches of final plot\n",
    "width <- 6\n",
    "# heigth in Inches of final plot\n",
    "heigth <- 6\n",
    "\n",
    "NMDS1 <- ggplot(nmds_spec_gg, aes(x=MDS1,y=MDS2, shape = !!ensym(shape_col), fill = !!ensym(fill_col)), colour=\"black\", size=dot_size) +\n",
    "            geom_point(aes(color=Site), size=6, alpha=0.8) +\n",
    "            scale_shape_manual(values=c(Shape_list), labels=c('Cattle Op', 'Dumpster')) +\n",
    "            ggtitle(\"NMDS - Bray-Curtis Species Dissimilarity \") +\n",
    "            theme(plot.title = element_text(hjust = 0.5)) +\n",
    "            theme(plot.title = element_text(face = \"bold\")) +\n",
    "            theme(axis.text.x=element_text(size=2)) +\n",
    "            theme(axis.text.y=element_text(size=45)) +\n",
    "            guides(fill = guide_legend(override.aes = list(shape=22))) +\n",
    "            theme(axis.title=element_text(size=30,face=\"bold\")) +\n",
    "            xlab(paste(\"MDS1\")) +\n",
    "            ylab(paste(\"MDS2\"))  +\n",
    "            scale_fill_manual(values = c(\"Cattle Op\" = \"#ff2c79\", \"Dumpster\" = \"#009093\")) +\n",
    "            theme_bw() +\n",
    "            labs(shape=\"Site\")\n",
    "\n",
    "## Making output folder structure\n",
    "\n",
    "if (!dir.exists(\"plots\")){\n",
    "  dir.create(\"plots\")\n",
    "}else{\n",
    "  print(\"dir exists\")\n",
    "}\n",
    "\n",
    "if (!dir.exists(\"plots/nmds\")){\n",
    "  dir.create(\"plots/nmds\")\n",
    "}else{\n",
    "  print(\"dir exists\")\n",
    "}\n",
    "\n",
    "## Drawing & Saving the plots\n",
    "\n",
    "plot(NMDS1)\n",
    "png(\"plots/nmds/NMDS_1_2.png\",width=width,height=heigth,units=\"in\",res=dpi)\n",
    "print(NMDS1)\n",
    "dev.off()\n"
   ]
  },
  {
   "cell_type": "code",
   "execution_count": 21,
   "id": "4e3d9683-93ba-4ec3-892a-ff2498f70948",
   "metadata": {},
   "outputs": [
    {
     "data": {
      "text/html": [
       "<table class=\"dataframe\">\n",
       "<caption>A anova.cca: 3 × 5</caption>\n",
       "<thead>\n",
       "\t<tr><th></th><th scope=col>Df</th><th scope=col>SumOfSqs</th><th scope=col>R2</th><th scope=col>F</th><th scope=col>Pr(&gt;F)</th></tr>\n",
       "\t<tr><th></th><th scope=col>&lt;dbl&gt;</th><th scope=col>&lt;dbl&gt;</th><th scope=col>&lt;dbl&gt;</th><th scope=col>&lt;dbl&gt;</th><th scope=col>&lt;dbl&gt;</th></tr>\n",
       "</thead>\n",
       "<tbody>\n",
       "\t<tr><th scope=row>Site</th><td>1</td><td>1.0989184</td><td>0.5715064</td><td>8.002542</td><td>0.03</td></tr>\n",
       "\t<tr><th scope=row>Residual</th><td>6</td><td>0.8239271</td><td>0.4284936</td><td>      NA</td><td>  NA</td></tr>\n",
       "\t<tr><th scope=row>Total</th><td>7</td><td>1.9228455</td><td>1.0000000</td><td>      NA</td><td>  NA</td></tr>\n",
       "</tbody>\n",
       "</table>\n"
      ],
      "text/latex": [
       "A anova.cca: 3 × 5\n",
       "\\begin{tabular}{r|lllll}\n",
       "  & Df & SumOfSqs & R2 & F & Pr(>F)\\\\\n",
       "  & <dbl> & <dbl> & <dbl> & <dbl> & <dbl>\\\\\n",
       "\\hline\n",
       "\tSite & 1 & 1.0989184 & 0.5715064 & 8.002542 & 0.03\\\\\n",
       "\tResidual & 6 & 0.8239271 & 0.4284936 &       NA &   NA\\\\\n",
       "\tTotal & 7 & 1.9228455 & 1.0000000 &       NA &   NA\\\\\n",
       "\\end{tabular}\n"
      ],
      "text/markdown": [
       "\n",
       "A anova.cca: 3 × 5\n",
       "\n",
       "| <!--/--> | Df &lt;dbl&gt; | SumOfSqs &lt;dbl&gt; | R2 &lt;dbl&gt; | F &lt;dbl&gt; | Pr(&gt;F) &lt;dbl&gt; |\n",
       "|---|---|---|---|---|---|\n",
       "| Site | 1 | 1.0989184 | 0.5715064 | 8.002542 | 0.03 |\n",
       "| Residual | 6 | 0.8239271 | 0.4284936 |       NA |   NA |\n",
       "| Total | 7 | 1.9228455 | 1.0000000 |       NA |   NA |\n",
       "\n"
      ],
      "text/plain": [
       "         Df SumOfSqs  R2        F        Pr(>F)\n",
       "Site     1  1.0989184 0.5715064 8.002542 0.03  \n",
       "Residual 6  0.8239271 0.4284936       NA   NA  \n",
       "Total    7  1.9228455 1.0000000       NA   NA  "
      ]
     },
     "metadata": {},
     "output_type": "display_data"
    }
   ],
   "source": [
    "set.seed(34521) # set seed for reproducibility\n",
    "\n",
    "# PERMANOVA\n",
    "adonis2(brel_spec_gg2_dist ~ Site, data = as.data.frame(nmds_spec_gg))"
   ]
  },
  {
   "cell_type": "code",
   "execution_count": null,
   "id": "3057b19f-da37-434c-840d-214707fafe01",
   "metadata": {},
   "outputs": [],
   "source": []
  }
 ],
 "metadata": {
  "kernelspec": {
   "display_name": "R [conda env:Deseq2_20230808] *",
   "language": "R",
   "name": "conda-env-Deseq2_20230808-r"
  },
  "language_info": {
   "codemirror_mode": "r",
   "file_extension": ".r",
   "mimetype": "text/x-r-source",
   "name": "R",
   "pygments_lexer": "r",
   "version": "4.1.3"
  }
 },
 "nbformat": 4,
 "nbformat_minor": 5
}
