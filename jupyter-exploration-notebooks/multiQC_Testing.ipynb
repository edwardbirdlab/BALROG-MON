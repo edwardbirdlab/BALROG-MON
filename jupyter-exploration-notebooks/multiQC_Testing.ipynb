{
 "cells": [
  {
   "cell_type": "code",
   "execution_count": 1,
   "id": "08f5cf4e",
   "metadata": {},
   "outputs": [],
   "source": [
    "import multiqc\n",
    "import os\n",
    "import pandas\n",
    "import shutil"
   ]
  },
  {
   "cell_type": "code",
   "execution_count": 2,
   "id": "13a6c620",
   "metadata": {},
   "outputs": [],
   "source": [
    "project_name = 'philip_dana_aviti'"
   ]
  },
  {
   "cell_type": "code",
   "execution_count": 3,
   "id": "8bf6b347",
   "metadata": {},
   "outputs": [],
   "source": [
    "def list_dir_in_directory(directory):\n",
    "    # Get the list of all files and subdirectories in the specified directory\n",
    "    files_and_subdirectories = os.listdir(directory)\n",
    "\n",
    "    # Filter out subdirectories, leaving only files\n",
    "    files = [file for file in files_and_subdirectories if os.path.isdir(os.path.join(directory, file))]\n",
    "\n",
    "    return files\n",
    "\n",
    "def list_zip_files_in_directory(directory):\n",
    "    # Get the list of all files and subdirectories in the specified directory\n",
    "    files_and_subdirectories = os.listdir(directory)\n",
    "\n",
    "    # Filter out subdirectories, leaving only files\n",
    "    files = [file for file in files_and_subdirectories if os.path.isfile(os.path.join(directory, file) and file.endswith('.zip'))]\n",
    "    return files"
   ]
  },
  {
   "cell_type": "code",
   "execution_count": 4,
   "id": "057e1e54-2435-4e3a-8b80-3b8306bda3dd",
   "metadata": {},
   "outputs": [],
   "source": [
    "def copy_and_rename_file(source_path, destination_directory, new_filename):\n",
    "    try:\n",
    "        # Create the destination directory if it doesn't exist\n",
    "        if not os.path.exists(destination_directory):\n",
    "            os.makedirs(destination_directory)\n",
    "\n",
    "        # Use os.path.join() to create the new path for the copied and renamed file\n",
    "        destination_path = os.path.join(destination_directory, new_filename)\n",
    "\n",
    "        # Copy the file from source_path to the new destination_path\n",
    "        shutil.copy(source_path, destination_path)\n",
    "\n",
    "        print(f\"File copied successfully from {source_path} to {destination_path}\")\n",
    "    except FileNotFoundError:\n",
    "        print(f\"Source file not found: {source_path}\")\n",
    "    except PermissionError:\n",
    "        print(f\"Permission error: Unable to copy file to {destination_path}\")\n",
    "    except Exception as e:\n",
    "        print(f\"An error occurred: {e}\")"
   ]
  },
  {
   "cell_type": "code",
   "execution_count": 5,
   "id": "f4634920",
   "metadata": {},
   "outputs": [
    {
     "ename": "NameError",
     "evalue": "name 'list_files_in_directory' is not defined",
     "output_type": "error",
     "traceback": [
      "\u001b[1;31m---------------------------------------------------------------------------\u001b[0m",
      "\u001b[1;31mNameError\u001b[0m                                 Traceback (most recent call last)",
      "Cell \u001b[1;32mIn[5], line 1\u001b[0m\n\u001b[1;32m----> 1\u001b[0m list_files_in_directory(\u001b[38;5;124m'\u001b[39m\u001b[38;5;124mtest_data/Pre_Processing/FastQC/ONT_METAGENOMICREAD_QC_ONTRAW_FASTQC/\u001b[39m\u001b[38;5;124m'\u001b[39m)\n",
      "\u001b[1;31mNameError\u001b[0m: name 'list_files_in_directory' is not defined"
     ]
    }
   ],
   "source": [
    "list_files_in_directory('test_data/Pre_Processing/FastQC/ONT_METAGENOMICREAD_QC_ONTRAW_FASTQC/')"
   ]
  },
  {
   "cell_type": "code",
   "execution_count": 6,
   "id": "7602571b",
   "metadata": {},
   "outputs": [
    {
     "name": "stdout",
     "output_type": "stream",
     "text": [
      "File copied successfully from test_data/Pre_Processing/FastQC/ONT_METAGENOMICREAD_QC_ONTCHOPPER_FASTQC/barcode01_fastqc/barcode01_ch_fastqc.zip to copy_data/CHOPPER_FASTQC/CHOPPER_FASTQC_barcode01_ch_fastqc.zip\n",
      "File copied successfully from test_data/Pre_Processing/FastQC/ONT_METAGENOMICREAD_QC_ONTCHOPPER_FASTQC/barcode02_fastqc/barcode02_ch_fastqc.zip to copy_data/CHOPPER_FASTQC/CHOPPER_FASTQC_barcode02_ch_fastqc.zip\n",
      "File copied successfully from test_data/Pre_Processing/FastQC/ONT_METAGENOMICREAD_QC_ONTCHOPPER_FASTQC/barcode03_fastqc/barcode03_ch_fastqc.zip to copy_data/CHOPPER_FASTQC/CHOPPER_FASTQC_barcode03_ch_fastqc.zip\n",
      "File copied successfully from test_data/Pre_Processing/FastQC/ONT_METAGENOMICREAD_QC_ONTCHOPPER_FASTQC/barcode04_fastqc/barcode04_ch_fastqc.zip to copy_data/CHOPPER_FASTQC/CHOPPER_FASTQC_barcode04_ch_fastqc.zip\n",
      "File copied successfully from test_data/Pre_Processing/FastQC/ONT_METAGENOMICREAD_QC_ONTCHOPPER_FASTQC/barcode05_fastqc/barcode05_ch_fastqc.zip to copy_data/CHOPPER_FASTQC/CHOPPER_FASTQC_barcode05_ch_fastqc.zip\n",
      "File copied successfully from test_data/Pre_Processing/FastQC/ONT_METAGENOMICREAD_QC_ONTCHOPPER_FASTQC/barcode06_fastqc/barcode06_ch_fastqc.zip to copy_data/CHOPPER_FASTQC/CHOPPER_FASTQC_barcode06_ch_fastqc.zip\n",
      "File copied successfully from test_data/Pre_Processing/FastQC/ONT_METAGENOMICREAD_QC_ONTCHOPPER_FASTQC/barcode07_fastqc/barcode07_ch_fastqc.zip to copy_data/CHOPPER_FASTQC/CHOPPER_FASTQC_barcode07_ch_fastqc.zip\n",
      "File copied successfully from test_data/Pre_Processing/FastQC/ONT_METAGENOMICREAD_QC_ONTCHOPPER_FASTQC/barcode08_fastqc/barcode08_ch_fastqc.zip to copy_data/CHOPPER_FASTQC/CHOPPER_FASTQC_barcode08_ch_fastqc.zip\n",
      "File copied successfully from test_data/Pre_Processing/FastQC/ONT_METAGENOMICREAD_QC_ONTCHOPPER_FASTQC/barcode09_fastqc/barcode09_ch_fastqc.zip to copy_data/CHOPPER_FASTQC/CHOPPER_FASTQC_barcode09_ch_fastqc.zip\n",
      "File copied successfully from test_data/Pre_Processing/FastQC/ONT_METAGENOMICREAD_QC_ONTCHOPPER_FASTQC/barcode10_fastqc/barcode10_ch_fastqc.zip to copy_data/CHOPPER_FASTQC/CHOPPER_FASTQC_barcode10_ch_fastqc.zip\n",
      "File copied successfully from test_data/Pre_Processing/FastQC/ONT_METAGENOMICREAD_QC_ONTCHOPPER_FASTQC/barcode11_fastqc/barcode11_ch_fastqc.zip to copy_data/CHOPPER_FASTQC/CHOPPER_FASTQC_barcode11_ch_fastqc.zip\n",
      "File copied successfully from test_data/Pre_Processing/FastQC/ONT_METAGENOMICREAD_QC_ONTCHOPPER_FASTQC/barcode12_fastqc/barcode12_ch_fastqc.zip to copy_data/CHOPPER_FASTQC/CHOPPER_FASTQC_barcode12_ch_fastqc.zip\n",
      "File copied successfully from test_data/Pre_Processing/FastQC/ONT_METAGENOMICREAD_QC_ONTPORECHOP_FASTQC/barcode01_fastqc/barcode01_pc_fastqc.zip to copy_data/PORECHOP_FASTQC/PORECHOP_FASTQC_barcode01_pc_fastqc.zip\n",
      "File copied successfully from test_data/Pre_Processing/FastQC/ONT_METAGENOMICREAD_QC_ONTPORECHOP_FASTQC/barcode02_fastqc/barcode02_pc_fastqc.zip to copy_data/PORECHOP_FASTQC/PORECHOP_FASTQC_barcode02_pc_fastqc.zip\n",
      "File copied successfully from test_data/Pre_Processing/FastQC/ONT_METAGENOMICREAD_QC_ONTPORECHOP_FASTQC/barcode03_fastqc/barcode03_pc_fastqc.zip to copy_data/PORECHOP_FASTQC/PORECHOP_FASTQC_barcode03_pc_fastqc.zip\n",
      "File copied successfully from test_data/Pre_Processing/FastQC/ONT_METAGENOMICREAD_QC_ONTPORECHOP_FASTQC/barcode04_fastqc/barcode04_pc_fastqc.zip to copy_data/PORECHOP_FASTQC/PORECHOP_FASTQC_barcode04_pc_fastqc.zip\n",
      "File copied successfully from test_data/Pre_Processing/FastQC/ONT_METAGENOMICREAD_QC_ONTPORECHOP_FASTQC/barcode05_fastqc/barcode05_pc_fastqc.zip to copy_data/PORECHOP_FASTQC/PORECHOP_FASTQC_barcode05_pc_fastqc.zip\n",
      "File copied successfully from test_data/Pre_Processing/FastQC/ONT_METAGENOMICREAD_QC_ONTPORECHOP_FASTQC/barcode06_fastqc/barcode06_pc_fastqc.zip to copy_data/PORECHOP_FASTQC/PORECHOP_FASTQC_barcode06_pc_fastqc.zip\n",
      "File copied successfully from test_data/Pre_Processing/FastQC/ONT_METAGENOMICREAD_QC_ONTPORECHOP_FASTQC/barcode07_fastqc/barcode07_pc_fastqc.zip to copy_data/PORECHOP_FASTQC/PORECHOP_FASTQC_barcode07_pc_fastqc.zip\n",
      "File copied successfully from test_data/Pre_Processing/FastQC/ONT_METAGENOMICREAD_QC_ONTPORECHOP_FASTQC/barcode08_fastqc/barcode08_pc_fastqc.zip to copy_data/PORECHOP_FASTQC/PORECHOP_FASTQC_barcode08_pc_fastqc.zip\n",
      "File copied successfully from test_data/Pre_Processing/FastQC/ONT_METAGENOMICREAD_QC_ONTPORECHOP_FASTQC/barcode09_fastqc/barcode09_pc_fastqc.zip to copy_data/PORECHOP_FASTQC/PORECHOP_FASTQC_barcode09_pc_fastqc.zip\n",
      "File copied successfully from test_data/Pre_Processing/FastQC/ONT_METAGENOMICREAD_QC_ONTPORECHOP_FASTQC/barcode10_fastqc/barcode10_pc_fastqc.zip to copy_data/PORECHOP_FASTQC/PORECHOP_FASTQC_barcode10_pc_fastqc.zip\n",
      "File copied successfully from test_data/Pre_Processing/FastQC/ONT_METAGENOMICREAD_QC_ONTPORECHOP_FASTQC/barcode11_fastqc/barcode11_pc_fastqc.zip to copy_data/PORECHOP_FASTQC/PORECHOP_FASTQC_barcode11_pc_fastqc.zip\n",
      "File copied successfully from test_data/Pre_Processing/FastQC/ONT_METAGENOMICREAD_QC_ONTPORECHOP_FASTQC/barcode12_fastqc/barcode12_pc_fastqc.zip to copy_data/PORECHOP_FASTQC/PORECHOP_FASTQC_barcode12_pc_fastqc.zip\n",
      "File copied successfully from test_data/Pre_Processing/FastQC/ONT_METAGENOMICREAD_QC_ONTRAW_FASTQC/barcode01_fastqc/barcode01_fastqc.zip to copy_data/RAW_FASTQC/RAW_FASTQC_barcode01_fastqc.zip\n",
      "File copied successfully from test_data/Pre_Processing/FastQC/ONT_METAGENOMICREAD_QC_ONTRAW_FASTQC/barcode02_fastqc/barcode02_fastqc.zip to copy_data/RAW_FASTQC/RAW_FASTQC_barcode02_fastqc.zip\n",
      "File copied successfully from test_data/Pre_Processing/FastQC/ONT_METAGENOMICREAD_QC_ONTRAW_FASTQC/barcode03_fastqc/barcode03_fastqc.zip to copy_data/RAW_FASTQC/RAW_FASTQC_barcode03_fastqc.zip\n",
      "File copied successfully from test_data/Pre_Processing/FastQC/ONT_METAGENOMICREAD_QC_ONTRAW_FASTQC/barcode04_fastqc/barcode04_fastqc.zip to copy_data/RAW_FASTQC/RAW_FASTQC_barcode04_fastqc.zip\n",
      "File copied successfully from test_data/Pre_Processing/FastQC/ONT_METAGENOMICREAD_QC_ONTRAW_FASTQC/barcode05_fastqc/barcode05_fastqc.zip to copy_data/RAW_FASTQC/RAW_FASTQC_barcode05_fastqc.zip\n",
      "File copied successfully from test_data/Pre_Processing/FastQC/ONT_METAGENOMICREAD_QC_ONTRAW_FASTQC/barcode06_fastqc/barcode06_fastqc.zip to copy_data/RAW_FASTQC/RAW_FASTQC_barcode06_fastqc.zip\n",
      "File copied successfully from test_data/Pre_Processing/FastQC/ONT_METAGENOMICREAD_QC_ONTRAW_FASTQC/barcode07_fastqc/barcode07_fastqc.zip to copy_data/RAW_FASTQC/RAW_FASTQC_barcode07_fastqc.zip\n",
      "File copied successfully from test_data/Pre_Processing/FastQC/ONT_METAGENOMICREAD_QC_ONTRAW_FASTQC/barcode08_fastqc/barcode08_fastqc.zip to copy_data/RAW_FASTQC/RAW_FASTQC_barcode08_fastqc.zip\n",
      "File copied successfully from test_data/Pre_Processing/FastQC/ONT_METAGENOMICREAD_QC_ONTRAW_FASTQC/barcode09_fastqc/barcode09_fastqc.zip to copy_data/RAW_FASTQC/RAW_FASTQC_barcode09_fastqc.zip\n",
      "File copied successfully from test_data/Pre_Processing/FastQC/ONT_METAGENOMICREAD_QC_ONTRAW_FASTQC/barcode10_fastqc/barcode10_fastqc.zip to copy_data/RAW_FASTQC/RAW_FASTQC_barcode10_fastqc.zip\n",
      "File copied successfully from test_data/Pre_Processing/FastQC/ONT_METAGENOMICREAD_QC_ONTRAW_FASTQC/barcode11_fastqc/barcode11_fastqc.zip to copy_data/RAW_FASTQC/RAW_FASTQC_barcode11_fastqc.zip\n",
      "File copied successfully from test_data/Pre_Processing/FastQC/ONT_METAGENOMICREAD_QC_ONTRAW_FASTQC/barcode12_fastqc/barcode12_fastqc.zip to copy_data/RAW_FASTQC/RAW_FASTQC_barcode12_fastqc.zip\n"
     ]
    }
   ],
   "source": [
    "for parent in list_dir_in_directory('test_data/Pre_Processing/FastQC/'):\n",
    "    for folder in list_dir_in_directory('test_data/Pre_Processing/FastQC/' + parent + '/'):\n",
    "        path = 'test_data/Pre_Processing/FastQC/' + parent + '/' + folder + '/'\n",
    "        for file in list_zip_files_in_directory(path):\n",
    "            current_file = os.path.join(path,file)\n",
    "            new_filename = path.split('/')[3].split('')[-1] + '_' + file\n",
    "            copy_path = 'copy_data/' + parent.split('')[-1] + '/'\n",
    "            copy_and_rename_file(current_file, copy_path, new_filename)"
   ]
  },
  {
   "cell_type": "code",
   "execution_count": 6,
   "id": "97978c8a-95f2-4269-bc1d-1b6d570a5581",
   "metadata": {},
   "outputs": [
    {
     "name": "stderr",
     "output_type": "stream",
     "text": [
      "\n",
      "  /// MultiQC \\U0001f50d | v1.18\n",
      "\n",
      "\u001b[34m|           multiqc\u001b[0m | \u001b[33mMultiQC Version v1.20 now available!\u001b[0m\n",
      "\u001b[34m|           multiqc\u001b[0m | Only using modules: fastqc, fastp, samtools\n",
      "\u001b[34m|           multiqc\u001b[0m | Search path : C:\\Users\\edwardbird\\Documents\\GitHub\\HT-BALRROG_MultiQC_2\n",
      "\n",
      "|       \\u280b searching | ----------------------------------------   0% 0/168  \n",
      "|         searching | ---------------------------------------- 100% 168/168  \n",
      "\u001b[34m|            fastqc\u001b[0m | Found 30 reports\n",
      "\u001b[34m|             fastp\u001b[0m | Found 15 reports\n",
      "\u001b[34m|            fastqc\u001b[0m | Found 30 reports\n",
      "\u001b[34m|          samtools\u001b[0m | Found 15 stats reports\n",
      "\u001b[34m|           multiqc\u001b[0m | Report      : multiqc_report.html   (overwritten)\n",
      "\u001b[34m|           multiqc\u001b[0m | Data        : multiqc_data   (overwritten)\n",
      "\u001b[34m|           multiqc\u001b[0m | MultiQC complete\n"
     ]
    }
   ],
   "source": [
    "!multiqc -f -c fastqc_conf.yaml ."
   ]
  },
  {
   "cell_type": "code",
   "execution_count": null,
   "id": "d9ccc984-18b8-486c-a0cb-c66c8975322d",
   "metadata": {},
   "outputs": [],
   "source": []
  }
 ],
 "metadata": {
  "kernelspec": {
   "display_name": "Python 3 (ipykernel)",
   "language": "python",
   "name": "python3"
  },
  "language_info": {
   "codemirror_mode": {
    "name": "ipython",
    "version": 3
   },
   "file_extension": ".py",
   "mimetype": "text/x-python",
   "name": "python",
   "nbconvert_exporter": "python",
   "pygments_lexer": "ipython3",
   "version": "3.11.5"
  }
 },
 "nbformat": 4,
 "nbformat_minor": 5
}
