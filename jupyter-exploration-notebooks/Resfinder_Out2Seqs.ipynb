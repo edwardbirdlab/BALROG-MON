{
 "cells": [
  {
   "cell_type": "code",
   "execution_count": 1,
   "id": "8e73770c-c672-476d-a041-44892acb947d",
   "metadata": {},
   "outputs": [],
   "source": [
    "import pandas as pd\n",
    "import os\n",
    "from Bio import SeqIO"
   ]
  },
  {
   "cell_type": "code",
   "execution_count": 2,
   "id": "a16d5a2c-25d9-4d9b-9c11-6285cd4b5382",
   "metadata": {},
   "outputs": [],
   "source": [
    "def import_fasta_file(file_path):\n",
    "    fasta_dict = {}\n",
    "    try:\n",
    "        # Parse the FASTA file and add sequences to the dictionary\n",
    "        with open(file_path) as file:\n",
    "            records = SeqIO.parse(file, 'fasta')\n",
    "            for record in records:\n",
    "                fasta_dict[record.id] = str(record.seq)\n",
    "    except Exception as e:\n",
    "        print(\"Error importing file {}: {}\".format(file_path, e))\n",
    "\n",
    "    return fasta_dict"
   ]
  },
  {
   "cell_type": "code",
   "execution_count": 3,
   "id": "50f26d25-eaf1-4d87-9a72-698c1605f599",
   "metadata": {},
   "outputs": [],
   "source": [
    "def write_fasta_dict_to_file(fasta_dict, output_file):\n",
    "    with open(output_file, \"w\") as output_handle:\n",
    "        for seq_id, seq in fasta_dict.items():\n",
    "            output_handle.write(f\">{seq_id}\\n\")\n",
    "            output_handle.write(f\"{seq}\\n\")"
   ]
  },
  {
   "cell_type": "code",
   "execution_count": 8,
   "id": "12564863-004b-488b-a4ad-b4733778276e",
   "metadata": {},
   "outputs": [],
   "source": [
    "def import_data(Resfidner_out_dir):\n",
    "    # Loop through files in the directory\n",
    "    seq_dict = {}\n",
    "    for filename in os.listdir(Resfidner_out_dir):\n",
    "        # Check if the entry is a file\n",
    "        filepath = os.path.join(Resfidner_out_dir, filename)\n",
    "        if os.path.isfile(filepath):\n",
    "            # Process the file\n",
    "            print(\"Processing file:\", filename)\n",
    "            fasta_dict = import_fasta_file(filepath)\n",
    "            for k,v in fasta_dict.items():\n",
    "                if not k in seq_dict.keys():\n",
    "                    seq_dict[k] = v\n",
    "    return seq_dict"
   ]
  },
  {
   "cell_type": "code",
   "execution_count": 10,
   "id": "c8a7d766-0280-4720-aa47-2183d5b66b3b",
   "metadata": {},
   "outputs": [
    {
     "name": "stdout",
     "output_type": "stream",
     "text": [
      "Processing file: Resfinder_geneseqs_barcode01.fsa\n",
      "Processing file: Resfinder_geneseqs_barcode02.fsa\n",
      "Processing file: Resfinder_geneseqs_barcode03.fsa\n",
      "Processing file: Resfinder_geneseqs_barcode04.fsa\n",
      "Processing file: Resfinder_geneseqs_barcode05.fsa\n",
      "Processing file: Resfinder_geneseqs_barcode06.fsa\n",
      "Processing file: Resfinder_geneseqs_barcode07.fsa\n",
      "Processing file: Resfinder_geneseqs_barcode08.fsa\n",
      "Processing file: Resfinder_geneseqs_barcode09.fsa\n",
      "Processing file: Resfinder_geneseqs_barcode10.fsa\n",
      "Processing file: Resfinder_geneseqs_barcode11.fsa\n",
      "Processing file: Resfinder_geneseqs_barcode12.fsa\n"
     ]
    }
   ],
   "source": [
    "whole_process('testing_outputs/Resfinder/', 'thisisatest.fasta')"
   ]
  },
  {
   "cell_type": "code",
   "execution_count": null,
   "id": "840c995d-e56d-47d0-b0d8-2c29c9b65d23",
   "metadata": {},
   "outputs": [],
   "source": []
  }
 ],
 "metadata": {
  "kernelspec": {
   "display_name": "Python 3 (ipykernel)",
   "language": "python",
   "name": "python3"
  },
  "language_info": {
   "codemirror_mode": {
    "name": "ipython",
    "version": 3
   },
   "file_extension": ".py",
   "mimetype": "text/x-python",
   "name": "python",
   "nbconvert_exporter": "python",
   "pygments_lexer": "ipython3",
   "version": "3.11.5"
  }
 },
 "nbformat": 4,
 "nbformat_minor": 5
}
