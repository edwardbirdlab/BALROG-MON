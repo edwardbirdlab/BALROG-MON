{
 "cells": [
  {
   "cell_type": "code",
   "execution_count": 66,
   "id": "036f934e-8de2-4bc4-b3b1-92cfe0095c8b",
   "metadata": {},
   "outputs": [],
   "source": [
    "import pandas as pd\n",
    "import os\n",
    "from Bio import SeqIO"
   ]
  },
  {
   "cell_type": "code",
   "execution_count": 67,
   "id": "ccc99cc6-a82c-49be-96be-dfcd64c25886",
   "metadata": {},
   "outputs": [],
   "source": [
    "def parse_tblout(tblout_file):\n",
    "    data = []\n",
    "    with open(tblout_file, 'r') as f:\n",
    "        for line in f:\n",
    "            line = line.strip()\n",
    "            if not line.startswith('#'):  # Skip comment lines\n",
    "                columns = line.split()\n",
    "                # Assuming you're interested in the first three columns (accession, E-value, bitscore)\n",
    "                target_name = columns[0]\n",
    "                query_name = columns[2]  # Assuming E-value is in the 5th column\n",
    "                e_value = float(columns[12])  # Assuming bitscore is in the 6th column\n",
    "                data.append([target_name, query_name, e_value])\n",
    "    df = pd.DataFrame(data, columns=['target_name', 'query_name', 'e_value'])\n",
    "    return df"
   ]
  },
  {
   "cell_type": "code",
   "execution_count": 68,
   "id": "a1cbe0b3-1b62-4cbd-b60b-680210341831",
   "metadata": {},
   "outputs": [
    {
     "name": "stdout",
     "output_type": "stream",
     "text": [
      "20\n",
      "17\n"
     ]
    }
   ],
   "source": [
    "amrfinder_arscan = parse_tblout('testing_outputs/hmmer/amrfinder_bacarscan.out')\n",
    "keep_indexs = []\n",
    "for query in amrfinder_arscan['query_name'].unique():\n",
    "    subset = amrfinder_arscan.loc[amrfinder_arscan['query_name'] == query]\n",
    "    index = subset['e_value'].idxmin()\n",
    "    keep_indexs.append(index)\n",
    "amrfinder_arscan_top = amrfinder_arscan[amrfinder_arscan.index.isin(keep_indexs)]\n",
    "print(len(amrfinder_arscan_top))\n",
    "print(len(amrfinder_arscan_top['target_name'].unique()))"
   ]
  },
  {
   "cell_type": "code",
   "execution_count": 69,
   "id": "da8bd815-919e-4269-852c-dd3d6d2c82f1",
   "metadata": {},
   "outputs": [
    {
     "name": "stdout",
     "output_type": "stream",
     "text": [
      "369\n",
      "136\n"
     ]
    }
   ],
   "source": [
    "card_arscan = parse_tblout('testing_outputs/hmmer/card_bacarscan.out')\n",
    "keep_indexs = []\n",
    "for query in card_arscan['query_name'].unique():\n",
    "    subset = card_arscan.loc[card_arscan['query_name'] == query]\n",
    "    index = subset['e_value'].idxmin()\n",
    "    keep_indexs.append(index)\n",
    "card_arscan_top = card_arscan[card_arscan.index.isin(keep_indexs)]\n",
    "print(len(card_arscan_top))\n",
    "print(len(card_arscan_top['target_name'].unique()))"
   ]
  },
  {
   "cell_type": "code",
   "execution_count": 70,
   "id": "5cfd4727-c64d-4848-825f-5ba6425e4de0",
   "metadata": {},
   "outputs": [
    {
     "name": "stdout",
     "output_type": "stream",
     "text": [
      "48\n",
      "31\n"
     ]
    }
   ],
   "source": [
    "resfinder_arscan = parse_tblout('testing_outputs/hmmer/resfinder_bacarscan.out')\n",
    "for query in resfinder_arscan['query_name'].unique():\n",
    "    subset = resfinder_arscan.loc[resfinder_arscan['query_name'] == query]\n",
    "    index = subset['e_value'].idxmin()\n",
    "    keep_indexs.append(index)\n",
    "resfinder_arscan_top = resfinder_arscan[resfinder_arscan.index.isin(keep_indexs)]\n",
    "print(len(resfinder_arscan_top))\n",
    "print(len(resfinder_arscan_top['target_name'].unique()))"
   ]
  },
  {
   "cell_type": "code",
   "execution_count": 71,
   "id": "a53334bd-8e31-48f2-887b-7bdab849b10d",
   "metadata": {},
   "outputs": [
    {
     "name": "stdout",
     "output_type": "stream",
     "text": [
      "Processing file: barcode01_out.txt\n",
      "Processing file: barcode02_out.txt\n",
      "Processing file: barcode03_out.txt\n",
      "Processing file: barcode04_out.txt\n",
      "Processing file: barcode05_out.txt\n",
      "Processing file: barcode06_out.txt\n",
      "Processing file: barcode07_out.txt\n",
      "Processing file: barcode08_out.txt\n",
      "Processing file: barcode09_out.txt\n",
      "Processing file: barcode10_out.txt\n",
      "Processing file: barcode11_out.txt\n",
      "Processing file: barcode12_out.txt\n"
     ]
    }
   ],
   "source": [
    "CARD_out_dir = 'testing_outputs/CARD/'\n",
    "\n",
    "card_DFs = {}\n",
    "for filename in os.listdir(CARD_out_dir):\n",
    "    # Check if the entry is a file\n",
    "    filepath = os.path.join(CARD_out_dir, filename)\n",
    "    if os.path.isfile(filepath):\n",
    "        # Process the file\n",
    "        print(\"Processing file:\", filename)\n",
    "        name=filename.split('_')[0]\n",
    "        card_out = pd.read_csv(filepath, sep='\\t')\n",
    "        card_out['Percentage Length of Reference Sequence'] = card_out['Percentage Length of Reference Sequence'].astype(float)\n",
    "        car_out_pass = card_out.loc[card_out['Percentage Length of Reference Sequence'] >= 80]\n",
    "        card_DFs[name]=car_out_pass"
   ]
  },
  {
   "cell_type": "code",
   "execution_count": 72,
   "id": "00975edd-f530-49eb-a009-c2c30152762f",
   "metadata": {},
   "outputs": [
    {
     "data": {
      "text/plain": [
       "4"
      ]
     },
     "execution_count": 72,
     "metadata": {},
     "output_type": "execute_result"
    }
   ],
   "source": [
    "len(card_DFs['barcode01'])"
   ]
  },
  {
   "cell_type": "code",
   "execution_count": 73,
   "id": "d7ac7130-1606-4ca0-aa35-8c4061ba4257",
   "metadata": {},
   "outputs": [
    {
     "name": "stderr",
     "output_type": "stream",
     "text": [
      "C:\\Users\\edwardbird\\AppData\\Local\\Temp\\ipykernel_11572\\1303799759.py:10: SettingWithCopyWarning: \n",
      "A value is trying to be set on a copy of a slice from a DataFrame.\n",
      "Try using .loc[row_indexer,col_indexer] = value instead\n",
      "\n",
      "See the caveats in the documentation: https://pandas.pydata.org/pandas-docs/stable/user_guide/indexing.html#returning-a-view-versus-a-copy\n",
      "  df['ARScan_Term'] = arscan\n"
     ]
    }
   ],
   "source": [
    "updated_pass_card = {}\n",
    "for name,df in card_DFs.items():\n",
    "    arscan = []\n",
    "    for ARO in df['ARO']:\n",
    "        subset =card_arscan_top.loc[card_arscan_top['query_name'] == str(ARO)]\n",
    "        if len(subset) > 0:\n",
    "            arscan.append(subset.iloc[0]['target_name'])\n",
    "        else:\n",
    "            arscan.append('N/A')\n",
    "    df['ARScan_Term'] = arscan\n",
    "    updated_pass_card[name] = df"
   ]
  },
  {
   "cell_type": "code",
   "execution_count": 74,
   "id": "cd32d834-a1f0-4654-bc4a-89c24cd049cf",
   "metadata": {},
   "outputs": [],
   "source": [
    "os.makedirs('Filtered_Card_Outputs', exist_ok=True)\n",
    "for name,df in updated_pass_card.items():\n",
    "    filename = name + '_filtered_card.csv'\n",
    "    df.to_csv('Filtered_Card_Outputs/'+filename, index=False)"
   ]
  },
  {
   "cell_type": "code",
   "execution_count": 76,
   "id": "a18f2a8d-1e34-4121-ba97-f856633e43e2",
   "metadata": {},
   "outputs": [],
   "source": [
    "card_summary = pd.DataFrame()\n",
    "all_arscan_terms = []\n",
    "for name,df in updated_pass_card.items():\n",
    "    for term in df['ARScan_Term']:\n",
    "        all_arscan_terms.append(term)\n",
    "unique_all_arscan_terms = list(set(all_arscan_terms))\n",
    "card_summary['ARScan_Term'] = unique_all_arscan_terms\n",
    "for name,df in updated_pass_card.items():\n",
    "    count_data = []\n",
    "    for term in card_summary['ARScan_Term']:  \n",
    "        subset = df.loc[df['ARScan_Term'] == term]\n",
    "        term_count =len(subset)\n",
    "        count_data.append(term_count)\n",
    "    card_summary[name] = count_data"
   ]
  },
  {
   "cell_type": "code",
   "execution_count": 78,
   "id": "76b12c12-81bb-4130-8f12-ea000022d622",
   "metadata": {},
   "outputs": [
    {
     "data": {
      "text/html": [
       "<div>\n",
       "<style scoped>\n",
       "    .dataframe tbody tr th:only-of-type {\n",
       "        vertical-align: middle;\n",
       "    }\n",
       "\n",
       "    .dataframe tbody tr th {\n",
       "        vertical-align: top;\n",
       "    }\n",
       "\n",
       "    .dataframe thead th {\n",
       "        text-align: right;\n",
       "    }\n",
       "</style>\n",
       "<table border=\"1\" class=\"dataframe\">\n",
       "  <thead>\n",
       "    <tr style=\"text-align: right;\">\n",
       "      <th></th>\n",
       "      <th>ARScan_Term</th>\n",
       "      <th>barcode01</th>\n",
       "      <th>barcode02</th>\n",
       "      <th>barcode03</th>\n",
       "      <th>barcode04</th>\n",
       "      <th>barcode05</th>\n",
       "      <th>barcode06</th>\n",
       "      <th>barcode07</th>\n",
       "      <th>barcode08</th>\n",
       "      <th>barcode09</th>\n",
       "      <th>barcode10</th>\n",
       "      <th>barcode11</th>\n",
       "      <th>barcode12</th>\n",
       "    </tr>\n",
       "  </thead>\n",
       "  <tbody>\n",
       "    <tr>\n",
       "      <th>0</th>\n",
       "      <td>bAR1352</td>\n",
       "      <td>0</td>\n",
       "      <td>0</td>\n",
       "      <td>0</td>\n",
       "      <td>0</td>\n",
       "      <td>0</td>\n",
       "      <td>0</td>\n",
       "      <td>0</td>\n",
       "      <td>0</td>\n",
       "      <td>0</td>\n",
       "      <td>0</td>\n",
       "      <td>1</td>\n",
       "      <td>0</td>\n",
       "    </tr>\n",
       "    <tr>\n",
       "      <th>1</th>\n",
       "      <td>bAR1296</td>\n",
       "      <td>0</td>\n",
       "      <td>0</td>\n",
       "      <td>0</td>\n",
       "      <td>0</td>\n",
       "      <td>0</td>\n",
       "      <td>0</td>\n",
       "      <td>0</td>\n",
       "      <td>0</td>\n",
       "      <td>0</td>\n",
       "      <td>0</td>\n",
       "      <td>1</td>\n",
       "      <td>0</td>\n",
       "    </tr>\n",
       "    <tr>\n",
       "      <th>2</th>\n",
       "      <td>bAR1109</td>\n",
       "      <td>0</td>\n",
       "      <td>0</td>\n",
       "      <td>0</td>\n",
       "      <td>0</td>\n",
       "      <td>0</td>\n",
       "      <td>0</td>\n",
       "      <td>0</td>\n",
       "      <td>0</td>\n",
       "      <td>0</td>\n",
       "      <td>0</td>\n",
       "      <td>0</td>\n",
       "      <td>1</td>\n",
       "    </tr>\n",
       "    <tr>\n",
       "      <th>3</th>\n",
       "      <td>bAR1348</td>\n",
       "      <td>0</td>\n",
       "      <td>0</td>\n",
       "      <td>0</td>\n",
       "      <td>0</td>\n",
       "      <td>1</td>\n",
       "      <td>0</td>\n",
       "      <td>0</td>\n",
       "      <td>0</td>\n",
       "      <td>0</td>\n",
       "      <td>0</td>\n",
       "      <td>0</td>\n",
       "      <td>1</td>\n",
       "    </tr>\n",
       "    <tr>\n",
       "      <th>4</th>\n",
       "      <td>bAR1010</td>\n",
       "      <td>0</td>\n",
       "      <td>0</td>\n",
       "      <td>0</td>\n",
       "      <td>0</td>\n",
       "      <td>0</td>\n",
       "      <td>0</td>\n",
       "      <td>0</td>\n",
       "      <td>0</td>\n",
       "      <td>0</td>\n",
       "      <td>1</td>\n",
       "      <td>1</td>\n",
       "      <td>0</td>\n",
       "    </tr>\n",
       "  </tbody>\n",
       "</table>\n",
       "</div>"
      ],
      "text/plain": [
       "  ARScan_Term  barcode01  barcode02  barcode03  barcode04  barcode05  \\\n",
       "0     bAR1352          0          0          0          0          0   \n",
       "1     bAR1296          0          0          0          0          0   \n",
       "2     bAR1109          0          0          0          0          0   \n",
       "3     bAR1348          0          0          0          0          1   \n",
       "4     bAR1010          0          0          0          0          0   \n",
       "\n",
       "   barcode06  barcode07  barcode08  barcode09  barcode10  barcode11  barcode12  \n",
       "0          0          0          0          0          0          1          0  \n",
       "1          0          0          0          0          0          1          0  \n",
       "2          0          0          0          0          0          0          1  \n",
       "3          0          0          0          0          0          0          1  \n",
       "4          0          0          0          0          1          1          0  "
      ]
     },
     "execution_count": 78,
     "metadata": {},
     "output_type": "execute_result"
    }
   ],
   "source": [
    "card_summary.head()"
   ]
  },
  {
   "cell_type": "code",
   "execution_count": 79,
   "id": "64775cbd-3dfe-4a59-a03a-f376274682d8",
   "metadata": {},
   "outputs": [
    {
     "name": "stderr",
     "output_type": "stream",
     "text": [
      "C:\\Users\\edwardbird\\AppData\\Local\\anaconda3\\Lib\\site-packages\\openpyxl\\worksheet\\_read_only.py:79: UserWarning: Unknown extension is not supported and will be removed\n",
      "  for idx, row in parser.parse():\n"
     ]
    }
   ],
   "source": [
    "ARScan_reference_df = pd.read_excel('testing_outputs/hmmer/BacRAScan_Reference_DB.xlsx')"
   ]
  },
  {
   "cell_type": "code",
   "execution_count": 81,
   "id": "f891e7af-64ea-4bcf-80f2-ee193866f331",
   "metadata": {},
   "outputs": [
    {
     "data": {
      "text/html": [
       "<div>\n",
       "<style scoped>\n",
       "    .dataframe tbody tr th:only-of-type {\n",
       "        vertical-align: middle;\n",
       "    }\n",
       "\n",
       "    .dataframe tbody tr th {\n",
       "        vertical-align: top;\n",
       "    }\n",
       "\n",
       "    .dataframe thead th {\n",
       "        text-align: right;\n",
       "    }\n",
       "</style>\n",
       "<table border=\"1\" class=\"dataframe\">\n",
       "  <thead>\n",
       "    <tr style=\"text-align: right;\">\n",
       "      <th></th>\n",
       "      <th>BacARscan ID</th>\n",
       "      <th>Corresponding Uniprot ID</th>\n",
       "      <th>AMR Gene Term</th>\n",
       "      <th>AMR Gene name</th>\n",
       "      <th>Antibiotic Resistant</th>\n",
       "      <th>Antibiotic Class</th>\n",
       "      <th>Antimicrobial Spectrum</th>\n",
       "      <th>AMR Definition</th>\n",
       "      <th>Resistance Mechanism</th>\n",
       "      <th>AMR Protein names</th>\n",
       "      <th>AMR families</th>\n",
       "      <th>AMR Function</th>\n",
       "    </tr>\n",
       "  </thead>\n",
       "  <tbody>\n",
       "    <tr>\n",
       "      <th>0</th>\n",
       "      <td>bAR1099</td>\n",
       "      <td>P58777</td>\n",
       "      <td>cata1</td>\n",
       "      <td>cat</td>\n",
       "      <td>Phenicol, Chloramphenicol</td>\n",
       "      <td>Antibiotics, Other</td>\n",
       "      <td>Broad-Spectrum</td>\n",
       "      <td>Group A chloramphenicol acetyltransferase, whi...</td>\n",
       "      <td>Antibiotic Inactivation</td>\n",
       "      <td>Chloramphenicol acetyltransferase (CAT) (EC 2....</td>\n",
       "      <td>Chloramphenicol acetyltransferase family</td>\n",
       "      <td>This enzyme is an effector of chloramphenicol...</td>\n",
       "    </tr>\n",
       "    <tr>\n",
       "      <th>1</th>\n",
       "      <td>bAR1109</td>\n",
       "      <td>Q52424</td>\n",
       "      <td>aac2ia</td>\n",
       "      <td>aac</td>\n",
       "      <td>NaN</td>\n",
       "      <td>Aminoglycosides</td>\n",
       "      <td>Broad-Spectrum</td>\n",
       "      <td>Aminoglycoside N-acetyltransferase, which modi...</td>\n",
       "      <td>Antibiotic Inactivation</td>\n",
       "      <td>Aminoglycoside 2'-N-acetyltransferase (EC 2.3....</td>\n",
       "      <td>AAC(2')-I acetyltransferase family</td>\n",
       "      <td>Catalyzes the coenzyme A-dependent acetylatio...</td>\n",
       "    </tr>\n",
       "    <tr>\n",
       "      <th>2</th>\n",
       "      <td>bAR1114</td>\n",
       "      <td>P22782</td>\n",
       "      <td>cata13</td>\n",
       "      <td>NaN</td>\n",
       "      <td>Phenicol, Chloramphenicol\\n</td>\n",
       "      <td>Antibiotics, Other</td>\n",
       "      <td>Broad-Spectrum</td>\n",
       "      <td>Group A chloramphenicol acetyltransferase, wh...</td>\n",
       "      <td>Antibiotic Inactivation</td>\n",
       "      <td>Chloramphenicol acetyltransferase (CAT) (EC 2....</td>\n",
       "      <td>Chloramphenicol acetyltransferase family</td>\n",
       "      <td>This enzyme is an effector of chloramphenicol...</td>\n",
       "    </tr>\n",
       "    <tr>\n",
       "      <th>3</th>\n",
       "      <td>bAR1161</td>\n",
       "      <td>Q49157</td>\n",
       "      <td>aac2ib</td>\n",
       "      <td>aac</td>\n",
       "      <td>6_n_netilmicin, dibekacin, gentamicin, netilmi...</td>\n",
       "      <td>Aminoglycosides</td>\n",
       "      <td>Broad-Spectrum</td>\n",
       "      <td>Aminoglycoside Nacetyltransferase, which modif...</td>\n",
       "      <td>Antibiotic Inactivation</td>\n",
       "      <td>Aminoglycoside 2Nacetyltransferase (EC 2.3.1.)...</td>\n",
       "      <td>AAC(2)I acetyltransferase family</td>\n",
       "      <td>Confers resistance to gentamicin, tobramycin,...</td>\n",
       "    </tr>\n",
       "    <tr>\n",
       "      <th>4</th>\n",
       "      <td>bAR1208</td>\n",
       "      <td>P30180</td>\n",
       "      <td>aac3vii</td>\n",
       "      <td>aacC7</td>\n",
       "      <td>neomycin, ribostamycin</td>\n",
       "      <td>Aminoglycosides</td>\n",
       "      <td>Broad-Spectrum</td>\n",
       "      <td>Aminoglycoside Nacetyltransferase, which modif...</td>\n",
       "      <td>Antibiotic Inactivation</td>\n",
       "      <td>Aminoglycoside N(3)acetyltransferase VII (EC 2...</td>\n",
       "      <td>Antibiotic Nacetyltransferase family</td>\n",
       "      <td>Resistance to paromomycin.</td>\n",
       "    </tr>\n",
       "  </tbody>\n",
       "</table>\n",
       "</div>"
      ],
      "text/plain": [
       "  BacARscan ID Corresponding Uniprot ID AMR Gene Term AMR Gene name  \\\n",
       "0      bAR1099                   P58777         cata1           cat   \n",
       "1      bAR1109                   Q52424        aac2ia           aac   \n",
       "2      bAR1114                   P22782        cata13           NaN   \n",
       "3      bAR1161                   Q49157        aac2ib           aac   \n",
       "4      bAR1208                   P30180       aac3vii         aacC7   \n",
       "\n",
       "                                Antibiotic Resistant    Antibiotic Class  \\\n",
       "0                          Phenicol, Chloramphenicol  Antibiotics, Other   \n",
       "1                                                NaN     Aminoglycosides   \n",
       "2                        Phenicol, Chloramphenicol\\n  Antibiotics, Other   \n",
       "3  6_n_netilmicin, dibekacin, gentamicin, netilmi...     Aminoglycosides   \n",
       "4                             neomycin, ribostamycin     Aminoglycosides   \n",
       "\n",
       "  Antimicrobial Spectrum                                     AMR Definition  \\\n",
       "0         Broad-Spectrum  Group A chloramphenicol acetyltransferase, whi...   \n",
       "1         Broad-Spectrum  Aminoglycoside N-acetyltransferase, which modi...   \n",
       "2         Broad-Spectrum   Group A chloramphenicol acetyltransferase, wh...   \n",
       "3         Broad-Spectrum  Aminoglycoside Nacetyltransferase, which modif...   \n",
       "4         Broad-Spectrum  Aminoglycoside Nacetyltransferase, which modif...   \n",
       "\n",
       "      Resistance Mechanism                                  AMR Protein names  \\\n",
       "0  Antibiotic Inactivation  Chloramphenicol acetyltransferase (CAT) (EC 2....   \n",
       "1  Antibiotic Inactivation  Aminoglycoside 2'-N-acetyltransferase (EC 2.3....   \n",
       "2  Antibiotic Inactivation  Chloramphenicol acetyltransferase (CAT) (EC 2....   \n",
       "3  Antibiotic Inactivation  Aminoglycoside 2Nacetyltransferase (EC 2.3.1.)...   \n",
       "4  Antibiotic Inactivation  Aminoglycoside N(3)acetyltransferase VII (EC 2...   \n",
       "\n",
       "                               AMR families  \\\n",
       "0  Chloramphenicol acetyltransferase family   \n",
       "1        AAC(2')-I acetyltransferase family   \n",
       "2  Chloramphenicol acetyltransferase family   \n",
       "3          AAC(2)I acetyltransferase family   \n",
       "4      Antibiotic Nacetyltransferase family   \n",
       "\n",
       "                                        AMR Function  \n",
       "0   This enzyme is an effector of chloramphenicol...  \n",
       "1   Catalyzes the coenzyme A-dependent acetylatio...  \n",
       "2   This enzyme is an effector of chloramphenicol...  \n",
       "3   Confers resistance to gentamicin, tobramycin,...  \n",
       "4                         Resistance to paromomycin.  "
      ]
     },
     "execution_count": 81,
     "metadata": {},
     "output_type": "execute_result"
    }
   ],
   "source": [
    "ARScan_reference_df.head()"
   ]
  },
  {
   "cell_type": "code",
   "execution_count": 84,
   "id": "2b92ce2c-5108-4718-b19d-0cabaeec85c9",
   "metadata": {},
   "outputs": [],
   "source": [
    "Resistance = []\n",
    "Class = []\n",
    "AMR_Def = []\n",
    "Res_Mec = []\n",
    "Uniprot = []\n",
    "for term in card_summary['ARScan_Term']:\n",
    "    if term == 'N/A':\n",
    "        Resistance.append('N/A')\n",
    "        Class.append('N/A')\n",
    "        AMR_Def.append('N/A')\n",
    "        Res_Mec.append('N/A')\n",
    "        Uniprot.append('N/A')\n",
    "    else:\n",
    "        subset = ARScan_reference_df.loc[ARScan_reference_df['BacARscan ID'] == term]\n",
    "        if len(subset) > 0:\n",
    "            Resistance.append(subset.iloc[0]['Antibiotic Resistant'])\n",
    "            Class.append(subset.iloc[0]['Antibiotic Class'])\n",
    "            AMR_Def.append(subset.iloc[0]['AMR Definition'])\n",
    "            Res_Mec.append(subset.iloc[0]['Resistance Mechanism'])\n",
    "            Uniprot.append(subset.iloc[0]['Corresponding Uniprot ID'])\n",
    "        else:\n",
    "            print('problem')\n",
    "            print(subset)\n",
    "            print(real_term)\n",
    "            Resistance.append('N/A')\n",
    "            Class.append('N/A')\n",
    "            AMR_Def.append('N/A')\n",
    "            Res_Mec.append('N/A')\n",
    "            Uniprot.append('N/A')\n",
    "card_summary['Antibiotic_Resistant'] = Resistance\n",
    "card_summary['Antibiotic_class'] = Class\n",
    "card_summary['AMR_Definition'] = AMR_Def\n",
    "card_summary['Resistance_Mechanism'] = Res_Mec\n",
    "card_summary['Corresponding_Uniprot ID'] = Uniprot"
   ]
  },
  {
   "cell_type": "code",
   "execution_count": 86,
   "id": "20a93054-4ce8-48b7-8234-9eadfa1e6967",
   "metadata": {},
   "outputs": [],
   "source": [
    "card_summary.to_csv('Card_BacARScan_summary.csv', index=False)"
   ]
  },
  {
   "cell_type": "code",
   "execution_count": 88,
   "id": "668ef793-7f47-4e3b-a991-e151c1b04e42",
   "metadata": {},
   "outputs": [
    {
     "name": "stdout",
     "output_type": "stream",
     "text": [
      "Processing file: barcode01_AMRFinder.tsv\n",
      "Processing file: barcode02_AMRFinder.tsv\n",
      "Processing file: barcode03_AMRFinder.tsv\n",
      "Processing file: barcode04_AMRFinder.tsv\n",
      "Processing file: barcode05_AMRFinder.tsv\n",
      "Processing file: barcode06_AMRFinder.tsv\n",
      "Processing file: barcode07_AMRFinder.tsv\n",
      "Processing file: barcode08_AMRFinder.tsv\n",
      "Processing file: barcode09_AMRFinder.tsv\n",
      "Processing file: barcode10_AMRFinder.tsv\n",
      "Processing file: barcode11_AMRFinder.tsv\n",
      "Processing file: barcode12_AMRFinder.tsv\n"
     ]
    }
   ],
   "source": [
    "amrfinder_out_dir = 'testing_outputs/AMRFINDER/'\n",
    "\n",
    "amrfinder_DFs = {}\n",
    "for filename in os.listdir(amrfinder_out_dir):\n",
    "    # Check if the entry is a file\n",
    "    filepath = os.path.join(amrfinder_out_dir, filename)\n",
    "    if os.path.isfile(filepath):\n",
    "        # Process the file\n",
    "        print(\"Processing file:\", filename)\n",
    "        name=filename.split('_')[0]\n",
    "        amrfinder_out = pd.read_csv(filepath, sep='\\t')\n",
    "        amrfinder_out['% Coverage of reference sequence'] = amrfinder_out['% Coverage of reference sequence'].astype(float)\n",
    "        amrfinder_out = amrfinder_out.loc[amrfinder_out['% Coverage of reference sequence'] >= 80]\n",
    "        amrfinder_DFs[name]=amrfinder_out\n",
    "    else:\n",
    "            print('problem')\n",
    "            print(subset)\n",
    "            print(real_term)\n",
    "            Resistance.append('N/A')\n",
    "            Class.append('N/A')\n",
    "            AMR_Def.append('N/A')\n",
    "            Res_Mec.append('N/A')\n",
    "            Uniprot.append('N/A')"
   ]
  },
  {
   "cell_type": "code",
   "execution_count": 91,
   "id": "d3776ffa-1898-4c8a-b33b-e936a199abb3",
   "metadata": {},
   "outputs": [],
   "source": [
    "updated_pass_amrfinder = {}\n",
    "for name,df in amrfinder_DFs.items():\n",
    "    arscan = []\n",
    "    for Acc in df['Accession of closest sequence']:\n",
    "        subset =amrfinder_arscan_top.loc[amrfinder_arscan_top['query_name'] == str(Acc)]\n",
    "        if len(subset) > 0:\n",
    "            arscan.append(subset.iloc[0]['target_name'])\n",
    "        else:\n",
    "            arscan.append('N/A')\n",
    "    df['ARScan_Term'] = arscan\n",
    "    updated_pass_amrfinder[name] = df"
   ]
  },
  {
   "cell_type": "code",
   "execution_count": 97,
   "id": "56e0972e-2acc-4b16-923a-b9a88775a4bd",
   "metadata": {},
   "outputs": [],
   "source": [
    "os.makedirs('Filtered_AMRFinder_Outputs', exist_ok=True)\n",
    "for name,df in updated_pass_amrfinder.items():\n",
    "    filename = name + '_filtered_armfinder.csv'\n",
    "    df.to_csv('Filtered_AMRFinder_Outputs/'+filename, index=False)"
   ]
  },
  {
   "cell_type": "code",
   "execution_count": 98,
   "id": "da89c9ba-8df2-43d9-9519-c0012ce79691",
   "metadata": {},
   "outputs": [],
   "source": [
    "amrfinder_summary = pd.DataFrame()\n",
    "all_arscan_terms = []\n",
    "for name,df in updated_pass_amrfinder.items():\n",
    "    for term in df['ARScan_Term']:\n",
    "        all_arscan_terms.append(term)\n",
    "unique_all_arscan_terms = list(set(all_arscan_terms))\n",
    "amrfinder_summary['ARScan_Term'] = unique_all_arscan_terms\n",
    "for name,df in updated_pass_amrfinder.items():\n",
    "    count_data = []\n",
    "    for term in amrfinder_summary['ARScan_Term']:  \n",
    "        subset = df.loc[df['ARScan_Term'] == term]\n",
    "        term_count =len(subset)\n",
    "        count_data.append(term_count)\n",
    "    amrfinder_summary[name] = count_data"
   ]
  },
  {
   "cell_type": "code",
   "execution_count": 108,
   "id": "7582ad64-57ff-4199-bcd8-152a2ab6a5c7",
   "metadata": {
    "scrolled": true
   },
   "outputs": [
    {
     "name": "stdout",
     "output_type": "stream",
     "text": [
      "problem\n",
      "Empty DataFrame\n",
      "Columns: [BacARscan ID, Corresponding Uniprot ID, AMR Gene Term, AMR Gene name, Antibiotic Resistant, Antibiotic Class, Antimicrobial Spectrum, AMR Definition, Resistance Mechanism, AMR Protein names, AMR families, AMR Function]\n",
      "Index: []\n",
      "bAR1325\n"
     ]
    }
   ],
   "source": [
    "Resistance = []\n",
    "Class = []\n",
    "AMR_Def = []\n",
    "Res_Mec = []\n",
    "Uniprot = []\n",
    "for term in amrfinder_summary['ARScan_Term']:\n",
    "    if term == 'N/A':\n",
    "        Resistance.append('N/A')\n",
    "        Class.append('N/A')\n",
    "        AMR_Def.append('N/A')\n",
    "        Res_Mec.append('N/A')\n",
    "        Uniprot.append('N/A')\n",
    "    else:\n",
    "        real_term = term.split('.')[0]\n",
    "        subset = ARScan_reference_df.loc[ARScan_reference_df['BacARscan ID'] == real_term]\n",
    "        if len(subset) > 0:\n",
    "            Resistance.append(subset.iloc[0]['Antibiotic Resistant'])\n",
    "            Class.append(subset.iloc[0]['Antibiotic Class'])\n",
    "            AMR_Def.append(subset.iloc[0]['AMR Definition'])\n",
    "            Res_Mec.append(subset.iloc[0]['Resistance Mechanism'])\n",
    "            Uniprot.append(subset.iloc[0]['Corresponding Uniprot ID'])\n",
    "        else:\n",
    "            print('problem')\n",
    "            print(subset)\n",
    "            print(real_term)\n",
    "            Resistance.append('N/A')\n",
    "            Class.append('N/A')\n",
    "            AMR_Def.append('N/A')\n",
    "            Res_Mec.append('N/A')\n",
    "            Uniprot.append('N/A')\n",
    "amrfinder_summary['Antibiotic_Resistant'] = Resistance\n",
    "amrfinder_summary['Antibiotic_class'] = Class\n",
    "amrfinder_summary['AMR_Definition'] = AMR_Def\n",
    "amrfinder_summary['Resistance_Mechanism'] = Res_Mec\n",
    "amrfinder_summary['Corresponding_Uniprot ID'] = Uniprot"
   ]
  },
  {
   "cell_type": "code",
   "execution_count": 109,
   "id": "a01a76bb-4e6d-4aec-bb2c-b27197d6d2a9",
   "metadata": {},
   "outputs": [],
   "source": [
    "amrfinder_summary.to_csv('AMRFinder_BacARScan_summary.csv', index=False)"
   ]
  },
  {
   "cell_type": "code",
   "execution_count": 111,
   "id": "b2c9fa97-2eab-47e9-9b35-6699e40ebd1c",
   "metadata": {},
   "outputs": [
    {
     "name": "stdout",
     "output_type": "stream",
     "text": [
      "Processing file: barcode01_ResFinder_results_tab.txt\n",
      "Processing file: barcode02_ResFinder_results_tab.txt\n",
      "Processing file: barcode03_ResFinder_results_tab.txt\n",
      "Processing file: barcode04_ResFinder_results_tab.txt\n",
      "Processing file: barcode05_ResFinder_results_tab.txt\n",
      "Processing file: barcode06_ResFinder_results_tab.txt\n",
      "Processing file: barcode07_ResFinder_results_tab.txt\n",
      "Processing file: barcode08_ResFinder_results_tab.txt\n",
      "Processing file: barcode09_ResFinder_results_tab.txt\n",
      "Processing file: barcode10_ResFinder_results_tab.txt\n",
      "Processing file: barcode11_ResFinder_results_tab.txt\n",
      "Processing file: barcode12_ResFinder_results_tab.txt\n"
     ]
    }
   ],
   "source": [
    "resfinder_out_dir = 'testing_outputs/Resfinder/'\n",
    "\n",
    "resfinder_DFs = {}\n",
    "for filename in os.listdir(resfinder_out_dir):\n",
    "    # Check if the entry is a file\n",
    "    filepath = os.path.join(resfinder_out_dir, filename)\n",
    "    if os.path.isfile(filepath):\n",
    "        # Process the file\n",
    "        print(\"Processing file:\", filename)\n",
    "        name=filename.split('_')[0]\n",
    "        resfinder_out = pd.read_csv(filepath, sep='\\t')\n",
    "        resfinder_out['Coverage'] = resfinder_out['Coverage'].astype(float)\n",
    "        resfinder_out = resfinder_out.loc[resfinder_out['Coverage'] >= 80]\n",
    "        resfinder_DFs[name]=resfinder_out"
   ]
  },
  {
   "cell_type": "code",
   "execution_count": 113,
   "id": "c0caa8c9-57ae-4f00-b651-449d388696f1",
   "metadata": {},
   "outputs": [],
   "source": [
    "updated_pass_resfinder = {}\n",
    "for name,df in resfinder_DFs.items():\n",
    "    arscan = []\n",
    "    for gene in df['Resistance gene']:\n",
    "        subset =resfinder_arscan_top.loc[resfinder_arscan_top['query_name'] == str(gene)]\n",
    "        if len(subset) > 0:\n",
    "            arscan.append(subset.iloc[0]['target_name'])\n",
    "        else:\n",
    "            arscan.append('N/A')\n",
    "    df['ARScan_Term'] = arscan\n",
    "    updated_pass_resfinder[name] = df"
   ]
  },
  {
   "cell_type": "code",
   "execution_count": 114,
   "id": "2a2323a3-447f-4977-a677-931a33cc92a8",
   "metadata": {},
   "outputs": [],
   "source": [
    "os.makedirs('Filtered_Resfinder_Outputs', exist_ok=True)\n",
    "for name,df in updated_pass_resfinder.items():\n",
    "    filename = name + '_filtered_resfinder.csv'\n",
    "    df.to_csv('Filtered_Resfinder_Outputs/'+filename, index=False)"
   ]
  },
  {
   "cell_type": "code",
   "execution_count": 115,
   "id": "32a6d8bd-ef12-4850-9fe7-071ebdbc048e",
   "metadata": {},
   "outputs": [],
   "source": [
    "resfinder_summary = pd.DataFrame()\n",
    "all_arscan_terms = []\n",
    "for name,df in updated_pass_resfinder.items():\n",
    "    for term in df['ARScan_Term']:\n",
    "        all_arscan_terms.append(term)\n",
    "unique_all_arscan_terms = list(set(all_arscan_terms))\n",
    "resfinder_summary['ARScan_Term'] = unique_all_arscan_terms\n",
    "for name,df in updated_pass_resfinder.items():\n",
    "    count_data = []\n",
    "    for term in resfinder_summary['ARScan_Term']:  \n",
    "        subset = df.loc[df['ARScan_Term'] == term]\n",
    "        term_count =len(subset)\n",
    "        count_data.append(term_count)\n",
    "    resfinder_summary[name] = count_data"
   ]
  },
  {
   "cell_type": "code",
   "execution_count": 116,
   "id": "b8875c13-061e-46c0-94f0-08aa2addfe61",
   "metadata": {},
   "outputs": [],
   "source": [
    "Resistance = []\n",
    "Class = []\n",
    "AMR_Def = []\n",
    "Res_Mec = []\n",
    "Uniprot = []\n",
    "for term in resfinder_summary['ARScan_Term']:\n",
    "    if term == 'N/A':\n",
    "        Resistance.append('N/A')\n",
    "        Class.append('N/A')\n",
    "        AMR_Def.append('N/A')\n",
    "        Res_Mec.append('N/A')\n",
    "        Uniprot.append('N/A')\n",
    "    else:\n",
    "        real_term = term.split('.')[0]\n",
    "        subset = ARScan_reference_df.loc[ARScan_reference_df['BacARscan ID'] == real_term]\n",
    "        if len(subset) > 0:\n",
    "            Resistance.append(subset.iloc[0]['Antibiotic Resistant'])\n",
    "            Class.append(subset.iloc[0]['Antibiotic Class'])\n",
    "            AMR_Def.append(subset.iloc[0]['AMR Definition'])\n",
    "            Res_Mec.append(subset.iloc[0]['Resistance Mechanism'])\n",
    "            Uniprot.append(subset.iloc[0]['Corresponding Uniprot ID'])\n",
    "        else:\n",
    "            print('problem')\n",
    "            print(subset)\n",
    "            print(real_term)\n",
    "            Resistance.append('N/A')\n",
    "            Class.append('N/A')\n",
    "            AMR_Def.append('N/A')\n",
    "            Res_Mec.append('N/A')\n",
    "            Uniprot.append('N/A')\n",
    "resfinder_summary['Antibiotic_Resistant'] = Resistance\n",
    "resfinder_summary['Antibiotic_class'] = Class\n",
    "resfinder_summary['AMR_Definition'] = AMR_Def\n",
    "resfinder_summary['Resistance_Mechanism'] = Res_Mec\n",
    "resfinder_summary['Corresponding_Uniprot ID'] = Uniprot"
   ]
  },
  {
   "cell_type": "code",
   "execution_count": 117,
   "id": "962bae00-9ef3-491c-b994-06a97fa56571",
   "metadata": {},
   "outputs": [],
   "source": [
    "resfinder_summary.to_csv('Resfinder_BacARScan_summary.csv', index=False)"
   ]
  },
  {
   "cell_type": "code",
   "execution_count": null,
   "id": "75226b89-e936-49cd-9b03-5de406e73b2f",
   "metadata": {},
   "outputs": [],
   "source": []
  }
 ],
 "metadata": {
  "kernelspec": {
   "display_name": "Python 3 (ipykernel)",
   "language": "python",
   "name": "python3"
  },
  "language_info": {
   "codemirror_mode": {
    "name": "ipython",
    "version": 3
   },
   "file_extension": ".py",
   "mimetype": "text/x-python",
   "name": "python",
   "nbconvert_exporter": "python",
   "pygments_lexer": "ipython3",
   "version": "3.11.5"
  }
 },
 "nbformat": 4,
 "nbformat_minor": 5
}
