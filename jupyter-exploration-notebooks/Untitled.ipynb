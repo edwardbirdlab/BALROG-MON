{
 "cells": [
  {
   "cell_type": "code",
   "execution_count": 3,
   "id": "bf620a33-7c57-472b-84ad-46bffcaa8a36",
   "metadata": {},
   "outputs": [],
   "source": [
    "# Required modules\n",
    "import gzip\n",
    "import os\n",
    "import sys\n",
    "import shutil"
   ]
  },
  {
   "cell_type": "code",
   "execution_count": 4,
   "id": "0b6bb076-b829-4bf6-bc61-8d11eacdc10d",
   "metadata": {},
   "outputs": [],
   "source": [
    "# Parsing arguments"
   ]
  },
  {
   "cell_type": "code",
   "execution_count": 5,
   "id": "16cbff01-ad2b-455d-8681-670b63944f39",
   "metadata": {},
   "outputs": [],
   "source": [
    "# Making a notebook to standardize seqeuncing data and refernce genomes. Will late be switched to a script."
   ]
  },
  {
   "cell_type": "code",
   "execution_count": null,
   "id": "80fe38f0-2e77-4096-a612-9f255beb2471",
   "metadata": {},
   "outputs": [],
   "source": [
    "#Temp inputs for testing\n",
    "fastq_input = 'test_notebook/barcode01_subset.fastq'\n",
    "\n",
    "sample_name = 'sample_1'\n",
    "\n",
    "remane = True"
   ]
  },
  {
   "cell_type": "code",
   "execution_count": 13,
   "id": "51ae3b1b-27fd-4373-b786-cb11ac0ad24b",
   "metadata": {},
   "outputs": [
    {
     "name": "stdout",
     "output_type": "stream",
     "text": [
      "File test_notebook/barcode01_subset.fastq was already unzipped and written to temporary file sample_1_unc_tmp.fastq\n",
      "sample_1_unc_tmp.fastq is a proper fasta file\n",
      "Successfully renamed sequences\n",
      "Successfully compressed sample_1.fastq to sample_1.fastq.gz\n",
      "Successfully deleted sample_1.fastq\n",
      "Successfully deleted sample_1_unc_tmp.fastq\n"
     ]
    }
   ],
   "source": [
    "def decompress_fastq(fastq_input, sample_name):\n",
    "    \"\"\"\n",
    "    This function takes a fastq input (either gzipped or no gzipped) and\n",
    "    uncompresses it to a temporary file. If its already gzipped it just \n",
    "    makes a copy to the temp file instead. It will name the temp file \n",
    "    according to the sample_name string\n",
    "\n",
    "    This returs the file name of the uncompressed fastq\n",
    "    \"\"\"\n",
    "    # Determining if the file is in gzip format\n",
    "    temp_uncompressed = sample_name + '_unc_tmp.fastq' #temp_file_name\n",
    "    \n",
    "    try:\n",
    "        with open(fastq_input, 'rb') as f:\n",
    "            # Read the first two bytes\n",
    "            magic_number = f.read(2)\n",
    "        \n",
    "        # Check if the magic number indicates gzip format\n",
    "        if magic_number == b'\\x1f\\x8b':\n",
    "            # Decompress a file\n",
    "            with gzip.open(fastq_input, 'rb') as f_in:\n",
    "                with open(temp_uncompressed, 'wb') as f_out:\n",
    "                    f_out.writelines(f_in)\n",
    "            print('File ' + fastq_input + ' was unzipped and written to temporary file ' + temp_uncompressed)        \n",
    "        \n",
    "        # assume the file is plain text if not gzipped\n",
    "        else:\n",
    "            shutil.copy(fastq_input, temp_uncompressed)\n",
    "            print('File ' + fastq_input + ' was already unzipped and written to temporary file ' + temp_uncompressed)\n",
    "    \n",
    "    except Exception as e:\n",
    "            print(f\"Error processing {fastq_input}: {e}\", file=sys.stderr)\n",
    "\n",
    "    return(temp_uncompressed)\n",
    "\n",
    "\n",
    "def check_fastq(fastq):\n",
    "    \"\"\"\n",
    "    This function checks to make sure a fastq file seems to be in the correct format.\n",
    "\n",
    "    This function expects fastqs to be uncompressed\n",
    "\n",
    "    This function returns a True if its in the correct format.\n",
    "    \"\"\"\n",
    "    \n",
    "    phred = {}\n",
    "    for x in range(0, 94):\n",
    "        phred[x] = chr(x + 33)\n",
    "    \n",
    "    \n",
    "    # Determinging if the file is in standard fastq format\n",
    "    try:\n",
    "        with open(fastq, 'r') as f:\n",
    "            valid_format = True\n",
    "            line_num = 0\n",
    "            for line in f:\n",
    "                line = line.strip()\n",
    "                line_num += 1\n",
    "                \n",
    "                if line_num % 4 == 1:\n",
    "                    if not line.startswith('@'):\n",
    "                        raise ValueError(\"File Format Error Line \" + str(line_num) + ' Does Not Start with a @')\n",
    "                        valid_format = False\n",
    "                elif line_num % 4 == 2:\n",
    "                    # sequence line, check for valid characters\n",
    "                    for char in line:\n",
    "                        if char not in 'ACGTN':\n",
    "                            raise ValueError(\"File Format Error Line \" + str(line_num) + ' Contains Charcters other than ATGCN')\n",
    "                            valid_format = False\n",
    "                elif line_num % 4 == 3:\n",
    "                    if not line.startswith('+'):\n",
    "                        raise ValueError(\"File Format Error Line \" + str(line_num) + ' Does Not Start with a +')\n",
    "                        valid_format = False\n",
    "                elif line_num % 4 == 0:\n",
    "                    for char in line:\n",
    "                        if not char in phred.values():\n",
    "                            raise ValueError(\"File Format Error Line \" + str(line_num) + ' Contains a non-standard phred score')\n",
    "                            valid_format = False\n",
    "        \n",
    "            # Check if the number of lines is a multiple of 4 (valid FASTQ format)\n",
    "            if line_num % 4 != 0:\n",
    "                raise ValueError(\"File Format Error: FastQ had \" + str(line_num) + ' lines, not a multiple of 4')\n",
    "                valid_format = False\n",
    "            \n",
    "    except Exception as e:\n",
    "        print(f\"Error processing {fastq}: {e}\", file=sys.stderr)\n",
    "\n",
    "    if valid_format:\n",
    "        print(fastq + ' is a proper fasta file')\n",
    "        return True\n",
    "    else:\n",
    "        print(fastq + ' is NOT a proper fasta file')\n",
    "        return False\n",
    "\n",
    "# Renaming sequence files (optional)\n",
    "# Some ONT sequencing reads come with very long headders that do not work with certain programs.\n",
    "\n",
    "output_uncompressed = sample_name + '.fastq'\n",
    "\n",
    "try:\n",
    "    with open(temp_uncompressed, 'r') as infile, open(output_uncompressed, 'w') as outfile:\n",
    "        line_num = 0\n",
    "        read_count = 0\n",
    "        for line in infile:\n",
    "            line = line.strip()\n",
    "            if line_num % 4 == 0:\n",
    "                # Sequence identifier line (starts with '@')\n",
    "                read_count += 1\n",
    "                sequence_name = f\"{sample_name}_{read_count}\"\n",
    "                outfile.write(f\"@{sequence_name}\\n\")\n",
    "            else:\n",
    "                # Other lines (sequence, optional quality scores)\n",
    "                outfile.write(f\"{line}\\n\")\n",
    "            line_num += 1\n",
    "except Exception as e:\n",
    "    print(f\"Error reading or writing files: {e}\", file=sys.stderr)\n",
    "\n",
    "print(f\"Successfully renamed sequences\")\n",
    "    \n",
    "# Writing gzipping\n",
    "\n",
    "output_compressed = sample_name + '.fastq.gz'\n",
    "\n",
    "try:\n",
    "    with open(output_uncompressed, 'rb') as f_in, gzip.open(output_compressed, 'wb') as f_out:\n",
    "        shutil.copyfileobj(f_in, f_out)\n",
    "    \n",
    "    print(f\"Successfully compressed {output_uncompressed} to {output_compressed}\")\n",
    "    \n",
    "except Exception as e:\n",
    "    print(f\"Error compressing file: {e}\", file=sys.stderr)\n",
    "\n",
    "# Removing temp files\n",
    "\n",
    "try:\n",
    "    os.remove(output_uncompressed)\n",
    "    print(f\"Successfully deleted {output_uncompressed}\")\n",
    "    os.remove(temp_uncompressed)\n",
    "    print(f\"Successfully deleted {temp_uncompressed}\")\n",
    "    \n",
    "except Exception as e:\n",
    "    print(f\"Error deleting file: {e}\", file=sys.stderr)"
   ]
  },
  {
   "cell_type": "code",
   "execution_count": 14,
   "id": "df3bb6ab-fae3-427a-bae5-5f5c3ab46064",
   "metadata": {},
   "outputs": [
    {
     "data": {
      "text/plain": [
       "dict_values(['!', '\"', '#', '$', '%', '&', \"'\", '(', ')', '*', '+', ',', '-', '.', '/', '0', '1', '2', '3', '4', '5', '6', '7', '8', '9', ':', ';', '<', '=', '>', '?', '@', 'A', 'B', 'C', 'D', 'E', 'F', 'G', 'H', 'I', 'J', 'K', 'L', 'M', 'N', 'O', 'P', 'Q', 'R', 'S', 'T', 'U', 'V', 'W', 'X', 'Y', 'Z', '[', '\\\\', ']', '^', '_', '`', 'a', 'b', 'c', 'd', 'e', 'f', 'g', 'h', 'i', 'j', 'k', 'l', 'm', 'n', 'o', 'p', 'q', 'r', 's', 't', 'u', 'v', 'w', 'x', 'y', 'z', '{', '|', '}', '~'])"
      ]
     },
     "execution_count": 14,
     "metadata": {},
     "output_type": "execute_result"
    }
   ],
   "source": [
    "phred.values()"
   ]
  },
  {
   "cell_type": "code",
   "execution_count": null,
   "id": "1e9b16e7-5ad8-468f-8b29-22e75a993b29",
   "metadata": {},
   "outputs": [],
   "source": []
  }
 ],
 "metadata": {
  "kernelspec": {
   "display_name": "Python 3 (ipykernel)",
   "language": "python",
   "name": "python3"
  },
  "language_info": {
   "codemirror_mode": {
    "name": "ipython",
    "version": 3
   },
   "file_extension": ".py",
   "mimetype": "text/x-python",
   "name": "python",
   "nbconvert_exporter": "python",
   "pygments_lexer": "ipython3",
   "version": "3.11.5"
  }
 },
 "nbformat": 4,
 "nbformat_minor": 5
}
