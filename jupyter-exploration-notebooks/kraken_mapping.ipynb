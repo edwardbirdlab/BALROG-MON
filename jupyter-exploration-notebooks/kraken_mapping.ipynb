{
 "cells": [
  {
   "cell_type": "code",
   "execution_count": 9,
   "id": "27a47088-78df-44a2-a6a3-8ca6a646548f",
   "metadata": {},
   "outputs": [],
   "source": [
    "import pandas as pd\n",
    "import ncbi_genome_download as ngd\n",
    "import os\n",
    "import subprocess"
   ]
  },
  {
   "cell_type": "code",
   "execution_count": 2,
   "id": "4fbdfdae-8495-4a6a-9218-08906521e9d7",
   "metadata": {},
   "outputs": [],
   "source": [
    "aligner = 'bowtie'"
   ]
  },
  {
   "cell_type": "code",
   "execution_count": 3,
   "id": "77e9abd9-5875-433b-928b-c120d4ba7c5d",
   "metadata": {},
   "outputs": [],
   "source": [
    "test_kraken = pd.read_csv(\"testing_samples/M1_kracken.tsv\", sep='\\t', comment='#')"
   ]
  },
  {
   "cell_type": "code",
   "execution_count": 4,
   "id": "ef14d94c-7951-4592-9a00-f165ac04c5c0",
   "metadata": {},
   "outputs": [],
   "source": [
    "species_subset = test_kraken.loc[(test_kraken['rank'] == 'species') & (test_kraken['taxReads'] > 50)]"
   ]
  },
  {
   "cell_type": "code",
   "execution_count": 5,
   "id": "e3e0a1bc-5054-413a-a672-3eecbf41a2ff",
   "metadata": {},
   "outputs": [
    {
     "data": {
      "text/plain": [
       "751"
      ]
     },
     "execution_count": 5,
     "metadata": {},
     "output_type": "execute_result"
    }
   ],
   "source": [
    "len(species_subset)"
   ]
  },
  {
   "cell_type": "code",
   "execution_count": 6,
   "id": "c791dc3b-3663-408d-ab4c-f6bc667dec4a",
   "metadata": {},
   "outputs": [],
   "source": [
    "species = list(species_subset['taxID'])"
   ]
  },
  {
   "cell_type": "code",
   "execution_count": 7,
   "id": "ba7cf592-3f28-49f2-a750-bd73637d3d3e",
   "metadata": {},
   "outputs": [],
   "source": [
    "file_path = 'taxid_list.txt'\n",
    "\n",
    "with open(file_path, 'w') as file:\n",
    "    for item in species:\n",
    "        file.write(str(item) + '\\n')"
   ]
  },
  {
   "cell_type": "code",
   "execution_count": 8,
   "id": "0f0e8a80-ff4f-4382-a30b-f2787e35d4ad",
   "metadata": {},
   "outputs": [
    {
     "name": "stderr",
     "output_type": "stream",
     "text": [
      "ERROR: Checksum mismatch for 'C:\\\\Users\\\\edwardbird\\\\Documents\\\\GitHub\\\\kraken_reference_download\\\\refseq\\\\bacteria\\\\GCF_000599985.1\\\\GCF_000599985.1_ASM59998v1_genomic.fna.gz'. Expected '4ea76c732f8055f41fc5d918038f995a', got 'e3bd6bdcf104f7b7438bc3c8f20f0203'\n",
      "ERROR: Download from NCBI failed: ConnectionError(MaxRetryError(\"HTTPSConnectionPool(host='ftp.ncbi.nlm.nih.gov', port=443): Max retries exceeded with url: /genomes/all/GCF/001/701/045/GCF_001701045.1_ASM170104v1/GCF_001701045.1_ASM170104v1_genomic.fna.gz (Caused by NewConnectionError('<urllib3.connection.HTTPSConnection object at 0x000002552BE659D0>: Failed to establish a new connection: [Errno 11001] getaddrinfo failed'))\"))\n",
      "ERROR: Downloading from NCBI failed due to a connection error, retrying. Retries so far: 1\n",
      "ERROR: Checksum mismatch for 'C:\\\\Users\\\\edwardbird\\\\Documents\\\\GitHub\\\\kraken_reference_download\\\\refseq\\\\bacteria\\\\GCF_001952065.1\\\\GCF_001952065.1_ASM195206v1_genomic.fna.gz'. Expected '58d31bb3736d700ac4afede05592918c', got '9ff8cd68eddfd31e6285be14653ba0b2'\n"
     ]
    }
   ],
   "source": [
    "!ncbi-genome-download --formats fasta --section refseq -R representative --taxids taxid_list.txt -p 1 -r 4 -m metadata.tsv all"
   ]
  },
  {
   "cell_type": "code",
   "execution_count": 9,
   "id": "f4eb06d8-9e61-458f-91e0-491289bc4ec6",
   "metadata": {},
   "outputs": [],
   "source": [
    "ngd_metadata = pd.read_csv(\"metadata.tsv\", sep='\\t')"
   ]
  },
  {
   "cell_type": "code",
   "execution_count": 10,
   "id": "39dd5d6a-33cf-4fb2-a537-6536bc26fe62",
   "metadata": {},
   "outputs": [
    {
     "data": {
      "text/html": [
       "<div>\n",
       "<style scoped>\n",
       "    .dataframe tbody tr th:only-of-type {\n",
       "        vertical-align: middle;\n",
       "    }\n",
       "\n",
       "    .dataframe tbody tr th {\n",
       "        vertical-align: top;\n",
       "    }\n",
       "\n",
       "    .dataframe thead th {\n",
       "        text-align: right;\n",
       "    }\n",
       "</style>\n",
       "<table border=\"1\" class=\"dataframe\">\n",
       "  <thead>\n",
       "    <tr style=\"text-align: right;\">\n",
       "      <th></th>\n",
       "      <th>assembly_accession</th>\n",
       "      <th>bioproject</th>\n",
       "      <th>biosample</th>\n",
       "      <th>wgs_master</th>\n",
       "      <th>excluded_from_refseq</th>\n",
       "      <th>refseq_category</th>\n",
       "      <th>relation_to_type_material</th>\n",
       "      <th>taxid</th>\n",
       "      <th>species_taxid</th>\n",
       "      <th>organism_name</th>\n",
       "      <th>...</th>\n",
       "      <th>assembly_level</th>\n",
       "      <th>release_type</th>\n",
       "      <th>genome_rep</th>\n",
       "      <th>seq_rel_date</th>\n",
       "      <th>asm_name</th>\n",
       "      <th>submitter</th>\n",
       "      <th>gbrs_paired_asm</th>\n",
       "      <th>paired_asm_comp</th>\n",
       "      <th>ftp_path</th>\n",
       "      <th>local_filename</th>\n",
       "    </tr>\n",
       "  </thead>\n",
       "  <tbody>\n",
       "    <tr>\n",
       "      <th>0</th>\n",
       "      <td>GCF_900103415.1</td>\n",
       "      <td>PRJNA224116</td>\n",
       "      <td>SAMN02910315</td>\n",
       "      <td>FMXB00000000.1</td>\n",
       "      <td>na</td>\n",
       "      <td>representative genome</td>\n",
       "      <td>assembly from type material</td>\n",
       "      <td>230361</td>\n",
       "      <td>230361</td>\n",
       "      <td>Methanobrevibacter millerae</td>\n",
       "      <td>...</td>\n",
       "      <td>Scaffold</td>\n",
       "      <td>Major</td>\n",
       "      <td>Full</td>\n",
       "      <td>2019/09/11</td>\n",
       "      <td>IMG-taxon 2593339167 annotated assembly</td>\n",
       "      <td>NaN</td>\n",
       "      <td>GCA_900103415.1</td>\n",
       "      <td>identical</td>\n",
       "      <td>https://ftp.ncbi.nlm.nih.gov/genomes/all/GCF/9...</td>\n",
       "      <td>.\\refseq\\archaea\\GCF_900103415.1\\GCF_900103415...</td>\n",
       "    </tr>\n",
       "    <tr>\n",
       "      <th>1</th>\n",
       "      <td>GCF_001563245.1</td>\n",
       "      <td>PRJNA224116</td>\n",
       "      <td>SAMN04335716</td>\n",
       "      <td>na</td>\n",
       "      <td>na</td>\n",
       "      <td>representative genome</td>\n",
       "      <td>na</td>\n",
       "      <td>294671</td>\n",
       "      <td>294671</td>\n",
       "      <td>Methanobrevibacter olleyae</td>\n",
       "      <td>...</td>\n",
       "      <td>Complete Genome</td>\n",
       "      <td>Major</td>\n",
       "      <td>Full</td>\n",
       "      <td>2016/02/18</td>\n",
       "      <td>ASM156324v1</td>\n",
       "      <td>NaN</td>\n",
       "      <td>GCA_001563245.1</td>\n",
       "      <td>identical</td>\n",
       "      <td>https://ftp.ncbi.nlm.nih.gov/genomes/all/GCF/0...</td>\n",
       "      <td>.\\refseq\\archaea\\GCF_001563245.1\\GCF_001563245...</td>\n",
       "    </tr>\n",
       "    <tr>\n",
       "      <th>2</th>\n",
       "      <td>GCF_001027285.1</td>\n",
       "      <td>PRJNA224116</td>\n",
       "      <td>SAMN03704078</td>\n",
       "      <td>na</td>\n",
       "      <td>na</td>\n",
       "      <td>representative genome</td>\n",
       "      <td>assembly from type material</td>\n",
       "      <td>48</td>\n",
       "      <td>48</td>\n",
       "      <td>Archangium gephyra</td>\n",
       "      <td>...</td>\n",
       "      <td>Complete Genome</td>\n",
       "      <td>Major</td>\n",
       "      <td>Full</td>\n",
       "      <td>2015/06/03</td>\n",
       "      <td>ASM102728v1</td>\n",
       "      <td>NaN</td>\n",
       "      <td>GCA_001027285.1</td>\n",
       "      <td>identical</td>\n",
       "      <td>https://ftp.ncbi.nlm.nih.gov/genomes/all/GCF/0...</td>\n",
       "      <td>.\\refseq\\bacteria\\GCF_001027285.1\\GCF_00102728...</td>\n",
       "    </tr>\n",
       "    <tr>\n",
       "      <th>3</th>\n",
       "      <td>GCF_008153345.1</td>\n",
       "      <td>PRJNA224116</td>\n",
       "      <td>SAMN12512735</td>\n",
       "      <td>na</td>\n",
       "      <td>na</td>\n",
       "      <td>representative genome</td>\n",
       "      <td>assembly from type material</td>\n",
       "      <td>162</td>\n",
       "      <td>162</td>\n",
       "      <td>Treponema phagedenis</td>\n",
       "      <td>...</td>\n",
       "      <td>Complete Genome</td>\n",
       "      <td>Major</td>\n",
       "      <td>Full</td>\n",
       "      <td>2019/08/30</td>\n",
       "      <td>ASM815334v1</td>\n",
       "      <td>NaN</td>\n",
       "      <td>GCA_008153345.1</td>\n",
       "      <td>identical</td>\n",
       "      <td>https://ftp.ncbi.nlm.nih.gov/genomes/all/GCF/0...</td>\n",
       "      <td>.\\refseq\\bacteria\\GCF_008153345.1\\GCF_00815334...</td>\n",
       "    </tr>\n",
       "    <tr>\n",
       "      <th>4</th>\n",
       "      <td>GCF_007827425.1</td>\n",
       "      <td>PRJNA224116</td>\n",
       "      <td>SAMN03159499</td>\n",
       "      <td>VISK00000000.1</td>\n",
       "      <td>na</td>\n",
       "      <td>representative genome</td>\n",
       "      <td>assembly from type material</td>\n",
       "      <td>192</td>\n",
       "      <td>192</td>\n",
       "      <td>Azospirillum brasilense</td>\n",
       "      <td>...</td>\n",
       "      <td>Contig</td>\n",
       "      <td>Major</td>\n",
       "      <td>Full</td>\n",
       "      <td>2019/08/02</td>\n",
       "      <td>ASM782742v1</td>\n",
       "      <td>NaN</td>\n",
       "      <td>GCA_007827425.1</td>\n",
       "      <td>identical</td>\n",
       "      <td>https://ftp.ncbi.nlm.nih.gov/genomes/all/GCF/0...</td>\n",
       "      <td>.\\refseq\\bacteria\\GCF_007827425.1\\GCF_00782742...</td>\n",
       "    </tr>\n",
       "  </tbody>\n",
       "</table>\n",
       "<p>5 rows × 23 columns</p>\n",
       "</div>"
      ],
      "text/plain": [
       "  assembly_accession   bioproject     biosample      wgs_master  \\\n",
       "0    GCF_900103415.1  PRJNA224116  SAMN02910315  FMXB00000000.1   \n",
       "1    GCF_001563245.1  PRJNA224116  SAMN04335716              na   \n",
       "2    GCF_001027285.1  PRJNA224116  SAMN03704078              na   \n",
       "3    GCF_008153345.1  PRJNA224116  SAMN12512735              na   \n",
       "4    GCF_007827425.1  PRJNA224116  SAMN03159499  VISK00000000.1   \n",
       "\n",
       "  excluded_from_refseq        refseq_category    relation_to_type_material  \\\n",
       "0                   na  representative genome  assembly from type material   \n",
       "1                   na  representative genome                           na   \n",
       "2                   na  representative genome  assembly from type material   \n",
       "3                   na  representative genome  assembly from type material   \n",
       "4                   na  representative genome  assembly from type material   \n",
       "\n",
       "    taxid  species_taxid                organism_name  ...   assembly_level  \\\n",
       "0  230361         230361  Methanobrevibacter millerae  ...         Scaffold   \n",
       "1  294671         294671   Methanobrevibacter olleyae  ...  Complete Genome   \n",
       "2      48             48           Archangium gephyra  ...  Complete Genome   \n",
       "3     162            162         Treponema phagedenis  ...  Complete Genome   \n",
       "4     192            192      Azospirillum brasilense  ...           Contig   \n",
       "\n",
       "  release_type genome_rep seq_rel_date  \\\n",
       "0        Major       Full   2019/09/11   \n",
       "1        Major       Full   2016/02/18   \n",
       "2        Major       Full   2015/06/03   \n",
       "3        Major       Full   2019/08/30   \n",
       "4        Major       Full   2019/08/02   \n",
       "\n",
       "                                  asm_name submitter  gbrs_paired_asm  \\\n",
       "0  IMG-taxon 2593339167 annotated assembly       NaN  GCA_900103415.1   \n",
       "1                              ASM156324v1       NaN  GCA_001563245.1   \n",
       "2                              ASM102728v1       NaN  GCA_001027285.1   \n",
       "3                              ASM815334v1       NaN  GCA_008153345.1   \n",
       "4                              ASM782742v1       NaN  GCA_007827425.1   \n",
       "\n",
       "  paired_asm_comp                                           ftp_path  \\\n",
       "0       identical  https://ftp.ncbi.nlm.nih.gov/genomes/all/GCF/9...   \n",
       "1       identical  https://ftp.ncbi.nlm.nih.gov/genomes/all/GCF/0...   \n",
       "2       identical  https://ftp.ncbi.nlm.nih.gov/genomes/all/GCF/0...   \n",
       "3       identical  https://ftp.ncbi.nlm.nih.gov/genomes/all/GCF/0...   \n",
       "4       identical  https://ftp.ncbi.nlm.nih.gov/genomes/all/GCF/0...   \n",
       "\n",
       "                                      local_filename  \n",
       "0  .\\refseq\\archaea\\GCF_900103415.1\\GCF_900103415...  \n",
       "1  .\\refseq\\archaea\\GCF_001563245.1\\GCF_001563245...  \n",
       "2  .\\refseq\\bacteria\\GCF_001027285.1\\GCF_00102728...  \n",
       "3  .\\refseq\\bacteria\\GCF_008153345.1\\GCF_00815334...  \n",
       "4  .\\refseq\\bacteria\\GCF_007827425.1\\GCF_00782742...  \n",
       "\n",
       "[5 rows x 23 columns]"
      ]
     },
     "execution_count": 10,
     "metadata": {},
     "output_type": "execute_result"
    }
   ],
   "source": [
    "ngd_metadata.head()"
   ]
  },
  {
   "cell_type": "code",
   "execution_count": 11,
   "id": "1f505c07-5155-4497-8579-5ff1e4f3cd5b",
   "metadata": {},
   "outputs": [
    {
     "data": {
      "text/plain": [
       "700"
      ]
     },
     "execution_count": 11,
     "metadata": {},
     "output_type": "execute_result"
    }
   ],
   "source": [
    "len(ngd_metadata)"
   ]
  },
  {
   "cell_type": "code",
   "execution_count": null,
   "id": "9027bf47-ca4d-4250-9653-9829fcf58c8c",
   "metadata": {},
   "outputs": [],
   "source": [
    "## Kraken Extract reads\n",
    "for taxid in ngd_metadata['taxid']:\n",
    "    koutput = 'testing_samples/M1_koutput.tsv'\n",
    "    read1 = 'testing_samples/M1_R1.fq.gz'\n",
    "    read2 = 'testing_samples/M1_R2.fq.gz'\n",
    "    output_r1 = 'R1_' + taxid + '.fq.gz'\n",
    "    output_r2 = 'R2_' + taxid + '.fq.gz'\n",
    "    \n",
    "    ## Building command\n",
    "    \n",
    "    \n",
    "    os.system()"
   ]
  },
  {
   "cell_type": "code",
   "execution_count": null,
   "id": "d121e425-6356-47ae-b283-caaa176857bf",
   "metadata": {},
   "outputs": [],
   "source": []
  }
 ],
 "metadata": {
  "kernelspec": {
   "display_name": "Python 3 (ipykernel)",
   "language": "python",
   "name": "python3"
  },
  "language_info": {
   "codemirror_mode": {
    "name": "ipython",
    "version": 3
   },
   "file_extension": ".py",
   "mimetype": "text/x-python",
   "name": "python",
   "nbconvert_exporter": "python",
   "pygments_lexer": "ipython3",
   "version": "3.11.5"
  }
 },
 "nbformat": 4,
 "nbformat_minor": 5
}
